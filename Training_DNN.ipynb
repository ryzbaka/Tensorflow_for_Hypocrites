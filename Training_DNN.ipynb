{
  "nbformat": 4,
  "nbformat_minor": 0,
  "metadata": {
    "colab": {
      "name": "Training_DNN.ipynb",
      "provenance": []
    },
    "kernelspec": {
      "name": "python3",
      "display_name": "Python 3"
    }
  },
  "cells": [
    {
      "cell_type": "markdown",
      "metadata": {
        "id": "d5V3fBa-Ql6a",
        "colab_type": "text"
      },
      "source": [
        "## Batch Normzalization"
      ]
    },
    {
      "cell_type": "code",
      "metadata": {
        "id": "H_HtJ3wrIb8z",
        "colab_type": "code",
        "colab": {
          "base_uri": "https://localhost:8080/",
          "height": 1000
        },
        "outputId": "8d2e461d-7418-4091-e814-58af3224f07e"
      },
      "source": [
        "model=keras.Sequential([\n",
        "                        keras.layers.Dense(units=30,input_shape=trainx.shape[1:],kernel_initializer='lecun_normal',use_bias=False),\n",
        "                        keras.layers.BatchNormalization(),\n",
        "                        keras.layers.Activation('selu'),\n",
        "                        keras.layers.Dense(units=30,kernel_initializer='lecun_normal',use_bias=False),\n",
        "                        keras.layers.BatchNormalization(),\n",
        "                        keras.layers.Activation('selu'),\n",
        "                        keras.layers.Dense(1)\n",
        "])\n",
        "model.compile(loss='mean_squared_error',optimizer='sgd')\n",
        "model.fit(trainx,trainy,epochs=50,validation_split=0.2)"
      ],
      "execution_count": 124,
      "outputs": [
        {
          "output_type": "stream",
          "text": [
            "Train on 12384 samples, validate on 3096 samples\n",
            "Epoch 1/50\n",
            "12384/12384 [==============================] - 2s 132us/sample - loss: 0.6972 - val_loss: 0.7422\n",
            "Epoch 2/50\n",
            "12384/12384 [==============================] - 1s 62us/sample - loss: 0.5033 - val_loss: 0.5374\n",
            "Epoch 3/50\n",
            "12384/12384 [==============================] - 1s 63us/sample - loss: 0.4696 - val_loss: 0.5728\n",
            "Epoch 4/50\n",
            "12384/12384 [==============================] - 1s 66us/sample - loss: 0.4574 - val_loss: 0.6239\n",
            "Epoch 5/50\n",
            "12384/12384 [==============================] - 1s 64us/sample - loss: 0.4386 - val_loss: 0.5232\n",
            "Epoch 6/50\n",
            "12384/12384 [==============================] - 1s 64us/sample - loss: 0.4436 - val_loss: 0.4953\n",
            "Epoch 7/50\n",
            "12384/12384 [==============================] - 1s 65us/sample - loss: 0.4230 - val_loss: 0.4726\n",
            "Epoch 8/50\n",
            "12384/12384 [==============================] - 1s 65us/sample - loss: 0.4287 - val_loss: 0.5722\n",
            "Epoch 9/50\n",
            "12384/12384 [==============================] - 1s 63us/sample - loss: 0.4236 - val_loss: 0.4913\n",
            "Epoch 10/50\n",
            "12384/12384 [==============================] - 1s 67us/sample - loss: 0.4243 - val_loss: 0.6328\n",
            "Epoch 11/50\n",
            "12384/12384 [==============================] - 1s 64us/sample - loss: 0.4176 - val_loss: 0.6729\n",
            "Epoch 12/50\n",
            "12384/12384 [==============================] - 1s 64us/sample - loss: 0.4173 - val_loss: 0.5591\n",
            "Epoch 13/50\n",
            "12384/12384 [==============================] - 1s 64us/sample - loss: 0.4139 - val_loss: 0.5906\n",
            "Epoch 14/50\n",
            "12384/12384 [==============================] - 1s 64us/sample - loss: 0.4088 - val_loss: 0.5747\n",
            "Epoch 15/50\n",
            "12384/12384 [==============================] - 1s 66us/sample - loss: 0.4058 - val_loss: 0.5346\n",
            "Epoch 16/50\n",
            "12384/12384 [==============================] - 1s 63us/sample - loss: 0.4025 - val_loss: 0.5171\n",
            "Epoch 17/50\n",
            "12384/12384 [==============================] - 1s 64us/sample - loss: 0.4077 - val_loss: 0.5608\n",
            "Epoch 18/50\n",
            "12384/12384 [==============================] - 1s 63us/sample - loss: 0.3976 - val_loss: 0.5386\n",
            "Epoch 19/50\n",
            "12384/12384 [==============================] - 1s 62us/sample - loss: 0.3946 - val_loss: 0.5796\n",
            "Epoch 20/50\n",
            "12384/12384 [==============================] - 1s 63us/sample - loss: 0.3973 - val_loss: 0.5823\n",
            "Epoch 21/50\n",
            "12384/12384 [==============================] - 1s 65us/sample - loss: 0.3965 - val_loss: 0.6300\n",
            "Epoch 22/50\n",
            "12384/12384 [==============================] - 1s 65us/sample - loss: 0.3933 - val_loss: 0.5942\n",
            "Epoch 23/50\n",
            "12384/12384 [==============================] - 1s 68us/sample - loss: 0.3983 - val_loss: 0.5602\n",
            "Epoch 24/50\n",
            "12384/12384 [==============================] - 1s 64us/sample - loss: 0.3864 - val_loss: 0.5269\n",
            "Epoch 25/50\n",
            "12384/12384 [==============================] - 1s 64us/sample - loss: 0.3996 - val_loss: 0.6412\n",
            "Epoch 26/50\n",
            "12384/12384 [==============================] - 1s 66us/sample - loss: 0.3810 - val_loss: 0.6705\n",
            "Epoch 27/50\n",
            "12384/12384 [==============================] - 1s 63us/sample - loss: 0.3912 - val_loss: 0.5357\n",
            "Epoch 28/50\n",
            "12384/12384 [==============================] - 1s 63us/sample - loss: 0.3889 - val_loss: 0.6004\n",
            "Epoch 29/50\n",
            "12384/12384 [==============================] - 1s 64us/sample - loss: 0.3942 - val_loss: 0.6154\n",
            "Epoch 30/50\n",
            "12384/12384 [==============================] - 1s 65us/sample - loss: 0.3840 - val_loss: 0.6368\n",
            "Epoch 31/50\n",
            "12384/12384 [==============================] - 1s 65us/sample - loss: 0.3828 - val_loss: 0.6680\n",
            "Epoch 32/50\n",
            "12384/12384 [==============================] - 1s 64us/sample - loss: 0.3834 - val_loss: 0.5918\n",
            "Epoch 33/50\n",
            "12384/12384 [==============================] - 1s 64us/sample - loss: 0.3824 - val_loss: 0.6663\n",
            "Epoch 34/50\n",
            "12384/12384 [==============================] - 1s 63us/sample - loss: 0.3836 - val_loss: 0.5598\n",
            "Epoch 35/50\n",
            "12384/12384 [==============================] - 1s 63us/sample - loss: 0.3787 - val_loss: 0.5902\n",
            "Epoch 36/50\n",
            "12384/12384 [==============================] - 1s 63us/sample - loss: 0.3790 - val_loss: 0.6364\n",
            "Epoch 37/50\n",
            "12384/12384 [==============================] - 1s 64us/sample - loss: 0.3698 - val_loss: 0.5969\n",
            "Epoch 38/50\n",
            "12384/12384 [==============================] - 1s 64us/sample - loss: 0.3838 - val_loss: 0.5737\n",
            "Epoch 39/50\n",
            "12384/12384 [==============================] - 1s 66us/sample - loss: 0.3726 - val_loss: 0.5727\n",
            "Epoch 40/50\n",
            "12384/12384 [==============================] - 1s 67us/sample - loss: 0.3729 - val_loss: 0.5430\n",
            "Epoch 41/50\n",
            "12384/12384 [==============================] - 1s 67us/sample - loss: 0.3752 - val_loss: 0.5380\n",
            "Epoch 42/50\n",
            "12384/12384 [==============================] - 1s 66us/sample - loss: 0.3812 - val_loss: 0.5584\n",
            "Epoch 43/50\n",
            "12384/12384 [==============================] - 1s 67us/sample - loss: 0.3715 - val_loss: 0.5398\n",
            "Epoch 44/50\n",
            "12384/12384 [==============================] - 1s 67us/sample - loss: 0.3712 - val_loss: 0.5300\n",
            "Epoch 45/50\n",
            "12384/12384 [==============================] - 1s 64us/sample - loss: 0.3745 - val_loss: 0.5164\n",
            "Epoch 46/50\n",
            "12384/12384 [==============================] - 1s 66us/sample - loss: 0.3719 - val_loss: 0.5293\n",
            "Epoch 47/50\n",
            "12384/12384 [==============================] - 1s 66us/sample - loss: 0.3773 - val_loss: 0.5981\n",
            "Epoch 48/50\n",
            "12384/12384 [==============================] - 1s 66us/sample - loss: 0.3755 - val_loss: 0.5469\n",
            "Epoch 49/50\n",
            "12384/12384 [==============================] - 1s 66us/sample - loss: 0.3692 - val_loss: 0.5544\n",
            "Epoch 50/50\n",
            "12384/12384 [==============================] - 1s 64us/sample - loss: 0.3687 - val_loss: 0.5278\n"
          ],
          "name": "stdout"
        },
        {
          "output_type": "execute_result",
          "data": {
            "text/plain": [
              "<tensorflow.python.keras.callbacks.History at 0x7f19551430f0>"
            ]
          },
          "metadata": {
            "tags": []
          },
          "execution_count": 124
        }
      ]
    },
    {
      "cell_type": "code",
      "metadata": {
        "id": "oLmNA41qK8Fk",
        "colab_type": "code",
        "colab": {
          "base_uri": "https://localhost:8080/",
          "height": 34
        },
        "outputId": "8fecf079-5827-4e55-b4d8-d5a591a21bbc"
      },
      "source": [
        "r2_score(testy,model.predict(testx))"
      ],
      "execution_count": 125,
      "outputs": [
        {
          "output_type": "execute_result",
          "data": {
            "text/plain": [
              "0.6151759185449692"
            ]
          },
          "metadata": {
            "tags": []
          },
          "execution_count": 125
        }
      ]
    },
    {
      "cell_type": "markdown",
      "metadata": {
        "id": "SAZHhRppQZcn",
        "colab_type": "text"
      },
      "source": [
        "## Gradient Clipping"
      ]
    },
    {
      "cell_type": "code",
      "metadata": {
        "id": "CfIQDiAYOcCl",
        "colab_type": "code",
        "colab": {}
      },
      "source": [
        "optimizer=keras.optimizers.Adam(clipnorm=True)"
      ],
      "execution_count": 0,
      "outputs": []
    },
    {
      "cell_type": "code",
      "metadata": {
        "id": "EvXl76S-Qb1H",
        "colab_type": "code",
        "colab": {}
      },
      "source": [
        "optimizer=keras.optimizers.Adam(clipvalue=1)"
      ],
      "execution_count": 0,
      "outputs": []
    },
    {
      "cell_type": "markdown",
      "metadata": {
        "id": "7ziVGSpZQiy2",
        "colab_type": "text"
      },
      "source": [
        "## Transfer Learning"
      ]
    },
    {
      "cell_type": "code",
      "metadata": {
        "id": "f26eLyeZPQWl",
        "colab_type": "code",
        "colab": {}
      },
      "source": [
        "model.save('model_A.h5')"
      ],
      "execution_count": 0,
      "outputs": []
    },
    {
      "cell_type": "code",
      "metadata": {
        "id": "GWOiHuaEQGoz",
        "colab_type": "code",
        "colab": {}
      },
      "source": [
        "model_A=keras.models.load_model('model_A.h5')"
      ],
      "execution_count": 0,
      "outputs": []
    },
    {
      "cell_type": "code",
      "metadata": {
        "id": "nGcBqpt5Qwyv",
        "colab_type": "code",
        "colab": {}
      },
      "source": [
        "model_A_clone=keras.models.clone_model(model_A)"
      ],
      "execution_count": 0,
      "outputs": []
    },
    {
      "cell_type": "code",
      "metadata": {
        "id": "zmKyMelNQ1JY",
        "colab_type": "code",
        "colab": {}
      },
      "source": [
        "model_A_clone.set_weights(model_A.get_weights())"
      ],
      "execution_count": 0,
      "outputs": []
    },
    {
      "cell_type": "code",
      "metadata": {
        "id": "qNl-Ynz3Q8cc",
        "colab_type": "code",
        "colab": {}
      },
      "source": [
        "model_B=keras.Sequential(model_A_clone.layers[:-1])# all layers except last"
      ],
      "execution_count": 0,
      "outputs": []
    },
    {
      "cell_type": "code",
      "metadata": {
        "id": "C8ZpzH4QRG2G",
        "colab_type": "code",
        "colab": {}
      },
      "source": [
        "model_B.add(keras.layers.Dense(1,activation='relu'))"
      ],
      "execution_count": 0,
      "outputs": []
    },
    {
      "cell_type": "code",
      "metadata": {
        "id": "V10WLc_xRkRU",
        "colab_type": "code",
        "colab": {
          "base_uri": "https://localhost:8080/",
          "height": 394
        },
        "outputId": "6b11652e-7f0c-4a1b-f760-489bd91b4f15"
      },
      "source": [
        "model_B.summary()"
      ],
      "execution_count": 146,
      "outputs": [
        {
          "output_type": "stream",
          "text": [
            "Model: \"sequential_9\"\n",
            "_________________________________________________________________\n",
            "Layer (type)                 Output Shape              Param #   \n",
            "=================================================================\n",
            "dense_52 (Dense)             (None, 30)                240       \n",
            "_________________________________________________________________\n",
            "batch_normalization_10 (Batc (None, 30)                120       \n",
            "_________________________________________________________________\n",
            "activation_6 (Activation)    (None, 30)                0         \n",
            "_________________________________________________________________\n",
            "dense_53 (Dense)             (None, 30)                900       \n",
            "_________________________________________________________________\n",
            "batch_normalization_11 (Batc (None, 30)                120       \n",
            "_________________________________________________________________\n",
            "activation_7 (Activation)    (None, 30)                0         \n",
            "_________________________________________________________________\n",
            "dense_55 (Dense)             (None, 1)                 31        \n",
            "=================================================================\n",
            "Total params: 1,411\n",
            "Trainable params: 1,291\n",
            "Non-trainable params: 120\n",
            "_________________________________________________________________\n"
          ],
          "name": "stdout"
        }
      ]
    },
    {
      "cell_type": "code",
      "metadata": {
        "id": "VBfc57fhRohx",
        "colab_type": "code",
        "colab": {}
      },
      "source": [
        "for layer in model_B.layers:\n",
        "  layer.trainable=False"
      ],
      "execution_count": 0,
      "outputs": []
    },
    {
      "cell_type": "code",
      "metadata": {
        "id": "ppt387krTnto",
        "colab_type": "code",
        "colab": {}
      },
      "source": [
        "model_B.layers[-1].trainable=True"
      ],
      "execution_count": 0,
      "outputs": []
    },
    {
      "cell_type": "markdown",
      "metadata": {
        "id": "pGsO01jKfJjD",
        "colab_type": "text"
      },
      "source": [
        "## Regularization"
      ]
    },
    {
      "cell_type": "code",
      "metadata": {
        "id": "lN1TmYEBTze3",
        "colab_type": "code",
        "colab": {}
      },
      "source": [
        "keras.layers.Dense(30,kernel_regularizer=keras.regularizers.l1(0.01))"
      ],
      "execution_count": 0,
      "outputs": []
    },
    {
      "cell_type": "code",
      "metadata": {
        "id": "hlQOu8pPfFmv",
        "colab_type": "code",
        "colab": {}
      },
      "source": [
        "model=keras.Sequential([\n",
        "                        keras.layers.Dense(30,\n",
        "                                           activation='elu',\n",
        "                                           kernel_regularizer=keras.regularizers.l1(0.01),\n",
        "                                           kernel_initializer='he_normal'),\n",
        "                        keras.layers.Dense(30,activation='elu',kernel_initializer='he_normal',kernel_regularizer=keras.regularizers.l1(0.01)),\n",
        "                        keras.layers.Dense(1)\n",
        "])"
      ],
      "execution_count": 0,
      "outputs": []
    },
    {
      "cell_type": "code",
      "metadata": {
        "id": "q2Hzh5TXf01y",
        "colab_type": "code",
        "colab": {}
      },
      "source": [
        "model.compile(loss='mean_squared_error',optimizer=keras.optimizers.Adam(beta_1=0.9, beta_2=0.999))"
      ],
      "execution_count": 0,
      "outputs": []
    },
    {
      "cell_type": "code",
      "metadata": {
        "id": "5LqekdVjgDKr",
        "colab_type": "code",
        "colab": {
          "base_uri": "https://localhost:8080/",
          "height": 34
        },
        "outputId": "428b29eb-ae24-4d4a-8141-0754b21d20aa"
      },
      "source": [
        "history=model.fit(trainx,trainy,epochs=20,verbose=0,validation_split=0.2)\n",
        "r2_score(testy,model.predict(testx))"
      ],
      "execution_count": 153,
      "outputs": [
        {
          "output_type": "execute_result",
          "data": {
            "text/plain": [
              "0.6808669569912864"
            ]
          },
          "metadata": {
            "tags": []
          },
          "execution_count": 153
        }
      ]
    },
    {
      "cell_type": "code",
      "metadata": {
        "id": "ohYSnNWtgPKE",
        "colab_type": "code",
        "colab": {}
      },
      "source": [
        ""
      ],
      "execution_count": 0,
      "outputs": []
    }
  ]
}