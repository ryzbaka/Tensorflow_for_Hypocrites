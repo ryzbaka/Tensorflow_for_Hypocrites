{
  "nbformat": 4,
  "nbformat_minor": 0,
  "metadata": {
    "colab": {
      "name": "TensorflowPrimer.ipynb",
      "provenance": []
    },
    "kernelspec": {
      "name": "python3",
      "display_name": "Python 3"
    }
  },
  "cells": [
    {
      "cell_type": "code",
      "metadata": {
        "id": "WIK9lTmsRrAX",
        "colab_type": "code",
        "colab": {}
      },
      "source": [
        "import tensorflow as tf"
      ],
      "execution_count": 0,
      "outputs": []
    },
    {
      "cell_type": "code",
      "metadata": {
        "id": "g_wPNpIcRv7B",
        "colab_type": "code",
        "colab": {}
      },
      "source": [
        "@tf.function\n",
        "def f(x):\n",
        "  return tf.reduce_sum(x)"
      ],
      "execution_count": 0,
      "outputs": []
    },
    {
      "cell_type": "code",
      "metadata": {
        "id": "uviZOEApR1ze",
        "colab_type": "code",
        "colab": {}
      },
      "source": [
        "result=f(tf.range(10))"
      ],
      "execution_count": 0,
      "outputs": []
    },
    {
      "cell_type": "code",
      "metadata": {
        "id": "zkI1UN_gR5JP",
        "colab_type": "code",
        "colab": {
          "base_uri": "https://localhost:8080/",
          "height": 35
        },
        "outputId": "c69adaa8-8ba6-4fe6-b99c-948ce2dae598"
      },
      "source": [
        "result"
      ],
      "execution_count": 6,
      "outputs": [
        {
          "output_type": "execute_result",
          "data": {
            "text/plain": [
              "<tf.Tensor: shape=(), dtype=int32, numpy=45>"
            ]
          },
          "metadata": {
            "tags": []
          },
          "execution_count": 6
        }
      ]
    },
    {
      "cell_type": "code",
      "metadata": {
        "id": "kczAHIFRSc8z",
        "colab_type": "code",
        "colab": {}
      },
      "source": [
        "@tf.function\n",
        "def f(N):\n",
        "  return tf.reduce_sum((tf.range(N))**2)"
      ],
      "execution_count": 0,
      "outputs": []
    },
    {
      "cell_type": "code",
      "metadata": {
        "id": "NmeLFqFASmF4",
        "colab_type": "code",
        "colab": {
          "base_uri": "https://localhost:8080/",
          "height": 35
        },
        "outputId": "caae3ea3-a5d5-4a38-8c67-8ac2eb30e1bc"
      },
      "source": [
        "f(3)"
      ],
      "execution_count": 16,
      "outputs": [
        {
          "output_type": "execute_result",
          "data": {
            "text/plain": [
              "<tf.Tensor: shape=(), dtype=int32, numpy=5>"
            ]
          },
          "metadata": {
            "tags": []
          },
          "execution_count": 16
        }
      ]
    },
    {
      "cell_type": "code",
      "metadata": {
        "id": "2vXurER8TAeD",
        "colab_type": "code",
        "colab": {
          "base_uri": "https://localhost:8080/",
          "height": 35
        },
        "outputId": "6df1d8f4-b150-4fe2-dfed-409b1de66954"
      },
      "source": [
        "f(10)"
      ],
      "execution_count": 17,
      "outputs": [
        {
          "output_type": "execute_result",
          "data": {
            "text/plain": [
              "<tf.Tensor: shape=(), dtype=int32, numpy=285>"
            ]
          },
          "metadata": {
            "tags": []
          },
          "execution_count": 17
        }
      ]
    },
    {
      "cell_type": "code",
      "metadata": {
        "id": "ExwWyERGSuah",
        "colab_type": "code",
        "colab": {}
      },
      "source": [
        "result=f(10)"
      ],
      "execution_count": 0,
      "outputs": []
    },
    {
      "cell_type": "code",
      "metadata": {
        "id": "trmCJhanTD5r",
        "colab_type": "code",
        "colab": {
          "base_uri": "https://localhost:8080/",
          "height": 35
        },
        "outputId": "1cdf6e71-0042-430a-8fe1-4cc10612147c"
      },
      "source": [
        "result**2"
      ],
      "execution_count": 23,
      "outputs": [
        {
          "output_type": "execute_result",
          "data": {
            "text/plain": [
              "<tf.Tensor: shape=(), dtype=int32, numpy=81225>"
            ]
          },
          "metadata": {
            "tags": []
          },
          "execution_count": 23
        }
      ]
    },
    {
      "cell_type": "code",
      "metadata": {
        "id": "8fNgHyyaTHpm",
        "colab_type": "code",
        "colab": {}
      },
      "source": [
        "@tf.function\n",
        "def somefunc(input_vector):\n",
        "  doubled_vector=input_vector*2\n",
        "  element_wise_cosine=tf.cos(input_vector)\n",
        "  vector_squares= input_vector**2 - tf.reduce_mean(input_vector) _"
      ],
      "execution_count": 0,
      "outputs": []
    },
    {
      "cell_type": "code",
      "metadata": {
        "id": "oEdfsE59TF8X",
        "colab_type": "code",
        "colab": {
          "base_uri": "https://localhost:8080/",
          "height": 35
        },
        "outputId": "052f2484-34ed-47be-d773-bf6c5f89d197"
      },
      "source": [
        "tf.shape(tf.Variable([[1,2],[3,4]]))"
      ],
      "execution_count": 26,
      "outputs": [
        {
          "output_type": "execute_result",
          "data": {
            "text/plain": [
              "<tf.Tensor: shape=(2,), dtype=int32, numpy=array([2, 2], dtype=int32)>"
            ]
          },
          "metadata": {
            "tags": []
          },
          "execution_count": 26
        }
      ]
    },
    {
      "cell_type": "code",
      "metadata": {
        "id": "YZ3GBUl8T3WG",
        "colab_type": "code",
        "colab": {
          "base_uri": "https://localhost:8080/",
          "height": 72
        },
        "outputId": "2fb4308e-0c0f-423c-9d35-e1a8c6cd4523"
      },
      "source": [
        "tf.random.normal(tf.shape(tf.Variable(\n",
        "    [\n",
        "     [1,2],\n",
        "     [3,4]\n",
        "    ])))"
      ],
      "execution_count": 32,
      "outputs": [
        {
          "output_type": "execute_result",
          "data": {
            "text/plain": [
              "<tf.Tensor: shape=(2, 2), dtype=float32, numpy=\n",
              "array([[ 0.89752465, -1.5242363 ],\n",
              "       [-0.9371203 ,  1.3424087 ]], dtype=float32)>"
            ]
          },
          "metadata": {
            "tags": []
          },
          "execution_count": 32
        }
      ]
    },
    {
      "cell_type": "code",
      "metadata": {
        "id": "btMplAAwStCa",
        "colab_type": "code",
        "colab": {}
      },
      "source": [
        "#x(t)=t-1.5*cos(15t)\n",
        "#y(t)=t-1.5*sin(16t)\n",
        "\n",
        "@tf.function\n",
        "def x(t):\n",
        "  return t-(1.5*(tf.cos(15*t)))"
      ],
      "execution_count": 0,
      "outputs": []
    },
    {
      "cell_type": "code",
      "metadata": {
        "id": "8ksFkOxGVSIO",
        "colab_type": "code",
        "colab": {}
      },
      "source": [
        "t=tf.range(5,dtype='float64')"
      ],
      "execution_count": 0,
      "outputs": []
    },
    {
      "cell_type": "code",
      "metadata": {
        "id": "qzHMSNskVWzt",
        "colab_type": "code",
        "colab": {
          "base_uri": "https://localhost:8080/",
          "height": 35
        },
        "outputId": "d6c93cb3-3e23-45fe-888b-45c72ab6edc6"
      },
      "source": [
        "t"
      ],
      "execution_count": 39,
      "outputs": [
        {
          "output_type": "execute_result",
          "data": {
            "text/plain": [
              "<tf.Tensor: shape=(5,), dtype=float64, numpy=array([0., 1., 2., 3., 4.])>"
            ]
          },
          "metadata": {
            "tags": []
          },
          "execution_count": 39
        }
      ]
    },
    {
      "cell_type": "code",
      "metadata": {
        "id": "NO_yVdpnVZoZ",
        "colab_type": "code",
        "colab": {
          "base_uri": "https://localhost:8080/",
          "height": 35
        },
        "outputId": "96f912ad-4031-4f1a-b585-2755f30d8730"
      },
      "source": [
        "x(t)"
      ],
      "execution_count": 41,
      "outputs": [
        {
          "output_type": "execute_result",
          "data": {
            "text/plain": [
              "<tf.Tensor: shape=(5,), dtype=float64, numpy=array([-1.5       ,  2.13953187,  1.76862283,  2.21201702,  5.42861947])>"
            ]
          },
          "metadata": {
            "tags": []
          },
          "execution_count": 41
        }
      ]
    },
    {
      "cell_type": "code",
      "metadata": {
        "id": "zZZcNw--Vll8",
        "colab_type": "code",
        "colab": {}
      },
      "source": [
        "@tf.function\n",
        "def y(t):\n",
        "  return t-(1.5*(tf.sin(16*t)))"
      ],
      "execution_count": 0,
      "outputs": []
    },
    {
      "cell_type": "code",
      "metadata": {
        "id": "Km5yu07FV0DR",
        "colab_type": "code",
        "colab": {
          "base_uri": "https://localhost:8080/",
          "height": 35
        },
        "outputId": "e9788a88-2e56-4e4d-b920-517f2873a80c"
      },
      "source": [
        "y(t)"
      ],
      "execution_count": 43,
      "outputs": [
        {
          "output_type": "execute_result",
          "data": {
            "text/plain": [
              "<tf.Tensor: shape=(5,), dtype=float64, numpy=array([0.        , 1.43185497, 1.17285998, 4.15238199, 2.61996094])>"
            ]
          },
          "metadata": {
            "tags": []
          },
          "execution_count": 43
        }
      ]
    },
    {
      "cell_type": "code",
      "metadata": {
        "id": "ClGovIJqV_RA",
        "colab_type": "code",
        "colab": {
          "base_uri": "https://localhost:8080/",
          "height": 283
        },
        "outputId": "9c0cad70-8f7c-4811-f489-ad032f04007a"
      },
      "source": [
        "plt.plot(t1,t2)"
      ],
      "execution_count": 50,
      "outputs": [
        {
          "output_type": "execute_result",
          "data": {
            "text/plain": [
              "[<matplotlib.lines.Line2D at 0x7f33f7f83c18>]"
            ]
          },
          "metadata": {
            "tags": []
          },
          "execution_count": 50
        },
        {
          "output_type": "display_data",
          "data": {
            "image/png": "[encoded data removed]",
            "text/plain": [
              "<Figure size 432x288 with 1 Axes>"
            ]
          },
          "metadata": {
            "tags": [],
            "needs_background": "light"
          }
        }
      ]
    },
    {
      "cell_type": "code",
      "metadata": {
        "id": "zNO1Q1lVWMEE",
        "colab_type": "code",
        "colab": {
          "base_uri": "https://localhost:8080/",
          "height": 35
        },
        "outputId": "655729e5-475b-4b40-f8a7-0caf634fb8e1"
      },
      "source": [
        "import numpy as np\n",
        "np.mean(tf.range(10))"
      ],
      "execution_count": 54,
      "outputs": [
        {
          "output_type": "execute_result",
          "data": {
            "text/plain": [
              "4.5"
            ]
          },
          "metadata": {
            "tags": []
          },
          "execution_count": 54
        }
      ]
    },
    {
      "cell_type": "code",
      "metadata": {
        "id": "M1Rn7ntRXIim",
        "colab_type": "code",
        "colab": {}
      },
      "source": [
        "a_scalar=tf.Variable(10,dtype='float32')"
      ],
      "execution_count": 0,
      "outputs": []
    },
    {
      "cell_type": "code",
      "metadata": {
        "id": "OPeEIv35XfVT",
        "colab_type": "code",
        "colab": {
          "base_uri": "https://localhost:8080/",
          "height": 35
        },
        "outputId": "7d46336a-00ea-4cdf-9197-e3e92ae78896"
      },
      "source": [
        "a_scalar"
      ],
      "execution_count": 56,
      "outputs": [
        {
          "output_type": "execute_result",
          "data": {
            "text/plain": [
              "<tf.Variable 'Variable:0' shape=() dtype=float32, numpy=10.0>"
            ]
          },
          "metadata": {
            "tags": []
          },
          "execution_count": 56
        }
      ]
    },
    {
      "cell_type": "code",
      "metadata": {
        "id": "78D4hVkGXgZZ",
        "colab_type": "code",
        "colab": {}
      },
      "source": [
        "scalar_squared=a_scalar**2"
      ],
      "execution_count": 0,
      "outputs": []
    },
    {
      "cell_type": "code",
      "metadata": {
        "id": "r5lApbX2YCgm",
        "colab_type": "code",
        "colab": {
          "base_uri": "https://localhost:8080/",
          "height": 35
        },
        "outputId": "d6ac9e04-087e-4d21-9347-9bc16c5c9d77"
      },
      "source": [
        "scalar_squared"
      ],
      "execution_count": 63,
      "outputs": [
        {
          "output_type": "execute_result",
          "data": {
            "text/plain": [
              "<tf.Tensor: shape=(), dtype=float32, numpy=100.0>"
            ]
          },
          "metadata": {
            "tags": []
          },
          "execution_count": 63
        }
      ]
    },
    {
      "cell_type": "markdown",
      "metadata": {
        "id": "l7ijIiLqYgsf",
        "colab_type": "text"
      },
      "source": [
        "##Gradient Tape"
      ]
    },
    {
      "cell_type": "code",
      "metadata": {
        "id": "DBFjJhECYc4A",
        "colab_type": "code",
        "colab": {
          "base_uri": "https://localhost:8080/",
          "height": 35
        },
        "outputId": "384b9a39-00d6-47bc-e7eb-8133d275bb8a"
      },
      "source": [
        "x=tf.constant(3.0)\n",
        "\n",
        "with tf.GradientTape() as g:\n",
        "  g.watch(x) # monitor operations being performed on the tensor x\n",
        "  y=x*x\n",
        "\n",
        "dy_dx=g.gradient(y,x) #f(3) where f is 2*x\n",
        "print(dy_dx)"
      ],
      "execution_count": 64,
      "outputs": [
        {
          "output_type": "stream",
          "text": [
            "tf.Tensor(6.0, shape=(), dtype=float32)\n"
          ],
          "name": "stdout"
        }
      ]
    },
    {
      "cell_type": "code",
      "metadata": {
        "id": "SQ8JZrLQZJ0a",
        "colab_type": "code",
        "colab": {}
      },
      "source": [
        "x=tf.constant(3.0)\n",
        "\n",
        "with tf.GradientTape() as g:\n",
        "  g.watch(x)\n",
        "  with tf.GradientTape() as gg:\n",
        "    gg.watch(x) # the variable with repect to which you want to find the derivative\n",
        "    y=x*x\n",
        "  dy_dx=gg.gradient(y,x) #dy/dx f(x)=x**2 => f'(x)=2x\n",
        "\n",
        "d2y_dx2=g.gradient(dy_dx,x) # f'(x)=2x => f''(x)=2\n",
        "#we use nested gradient tapes for higher order derivatives"
      ],
      "execution_count": 0,
      "outputs": []
    },
    {
      "cell_type": "code",
      "metadata": {
        "id": "7tCQenqxZ1Fi",
        "colab_type": "code",
        "colab": {
          "base_uri": "https://localhost:8080/",
          "height": 35
        },
        "outputId": "1dc8a2b0-ce8a-46a1-ac63-67886b254a95"
      },
      "source": [
        "d2y_dx2"
      ],
      "execution_count": 67,
      "outputs": [
        {
          "output_type": "execute_result",
          "data": {
            "text/plain": [
              "<tf.Tensor: shape=(), dtype=float32, numpy=2.0>"
            ]
          },
          "metadata": {
            "tags": []
          },
          "execution_count": 67
        }
      ]
    },
    {
      "cell_type": "code",
      "metadata": {
        "id": "LPIdP0m_aF0h",
        "colab_type": "code",
        "colab": {}
      },
      "source": [
        "x=tf.Variable([2,3,4],dtype='float32')\n",
        "\n",
        "with tf.GradientTape(persistent=True) as g:\n",
        "  g.watch(x)\n",
        "  with tf.GradientTape(persistent=True) as gg:\n",
        "    gg.watch(x)\n",
        "    y=x**2\n",
        "  dy_dx=gg.gradient(y,x)\n",
        "d2y_dx2=g.gradient(dy_dx,x)"
      ],
      "execution_count": 0,
      "outputs": []
    },
    {
      "cell_type": "code",
      "metadata": {
        "id": "hnFkvHFpbEGF",
        "colab_type": "code",
        "colab": {
          "base_uri": "https://localhost:8080/",
          "height": 35
        },
        "outputId": "66a006ed-e7d0-4240-c000-9b85d3815180"
      },
      "source": [
        "dy_dx"
      ],
      "execution_count": 75,
      "outputs": [
        {
          "output_type": "execute_result",
          "data": {
            "text/plain": [
              "<tf.Tensor: shape=(3,), dtype=float32, numpy=array([4., 6., 8.], dtype=float32)>"
            ]
          },
          "metadata": {
            "tags": []
          },
          "execution_count": 75
        }
      ]
    },
    {
      "cell_type": "code",
      "metadata": {
        "id": "o-fNAHxgbd5T",
        "colab_type": "code",
        "colab": {
          "base_uri": "https://localhost:8080/",
          "height": 35
        },
        "outputId": "e76a2df8-b0df-4ce8-e1f9-41064c0b6dac"
      },
      "source": [
        "d2y_dx2"
      ],
      "execution_count": 76,
      "outputs": [
        {
          "output_type": "execute_result",
          "data": {
            "text/plain": [
              "<tf.Tensor: shape=(3,), dtype=float32, numpy=array([2., 2., 2.], dtype=float32)>"
            ]
          },
          "metadata": {
            "tags": []
          },
          "execution_count": 76
        }
      ]
    },
    {
      "cell_type": "code",
      "metadata": {
        "id": "czpBm5rnbe_s",
        "colab_type": "code",
        "colab": {
          "base_uri": "https://localhost:8080/",
          "height": 35
        },
        "outputId": "66b64428-2496-4ae8-e1d6-deee2822ca6a"
      },
      "source": [
        "g"
      ],
      "execution_count": 77,
      "outputs": [
        {
          "output_type": "execute_result",
          "data": {
            "text/plain": [
              "<tensorflow.python.eager.backprop.GradientTape at 0x7f33f7a15390>"
            ]
          },
          "metadata": {
            "tags": []
          },
          "execution_count": 77
        }
      ]
    },
    {
      "cell_type": "code",
      "metadata": {
        "id": "KUMXwOEmbu2k",
        "colab_type": "code",
        "colab": {
          "base_uri": "https://localhost:8080/",
          "height": 35
        },
        "outputId": "28a82a3c-297e-4ddb-bb0a-8ee12b78285f"
      },
      "source": [
        "gg"
      ],
      "execution_count": 78,
      "outputs": [
        {
          "output_type": "execute_result",
          "data": {
            "text/plain": [
              "<tensorflow.python.eager.backprop.GradientTape at 0x7f33f7a15780>"
            ]
          },
          "metadata": {
            "tags": []
          },
          "execution_count": 78
        }
      ]
    },
    {
      "cell_type": "code",
      "metadata": {
        "id": "80mW7h8NbvZ_",
        "colab_type": "code",
        "colab": {}
      },
      "source": [
        "del g\n",
        "del gg # dropping references to the persisitent tapes"
      ],
      "execution_count": 0,
      "outputs": []
    },
    {
      "cell_type": "code",
      "metadata": {
        "id": "KZope0Q-hi9y",
        "colab_type": "code",
        "colab": {}
      },
      "source": [
        "my_scalar=tf.Variable(3,'float32')\n",
        "my_vector=tf.random.normal([10])"
      ],
      "execution_count": 0,
      "outputs": []
    },
    {
      "cell_type": "code",
      "metadata": {
        "id": "pX14T-4sh1--",
        "colab_type": "code",
        "colab": {
          "base_uri": "https://localhost:8080/",
          "height": 91
        },
        "outputId": "fcc78b07-be5d-4513-c476-1547d135d59f"
      },
      "source": [
        "my_vector"
      ],
      "execution_count": 85,
      "outputs": [
        {
          "output_type": "execute_result",
          "data": {
            "text/plain": [
              "<tf.Tensor: shape=(10,), dtype=float32, numpy=\n",
              "array([-0.41190806,  0.86358815, -0.15963137,  0.59928006, -2.453565  ,\n",
              "        0.327265  , -1.2630272 , -2.1707337 ,  2.012929  ,  1.7796715 ],\n",
              "      dtype=float32)>"
            ]
          },
          "metadata": {
            "tags": []
          },
          "execution_count": 85
        }
      ]
    },
    {
      "cell_type": "code",
      "metadata": {
        "id": "hItskGa2h3RJ",
        "colab_type": "code",
        "colab": {
          "base_uri": "https://localhost:8080/",
          "height": 35
        },
        "outputId": "205e61a0-81ac-4cbe-e479-b8bf44538851"
      },
      "source": [
        "my_scalar"
      ],
      "execution_count": 86,
      "outputs": [
        {
          "output_type": "execute_result",
          "data": {
            "text/plain": [
              "<tf.Variable 'Variable:0' shape=() dtype=int32, numpy=3>"
            ]
          },
          "metadata": {
            "tags": []
          },
          "execution_count": 86
        }
      ]
    },
    {
      "cell_type": "code",
      "metadata": {
        "id": "e2tir5sLiOwE",
        "colab_type": "code",
        "colab": {}
      },
      "source": [
        "y_guess = tf.Variable(np.zeros(2, dtype='float32'))\n",
        "y_true = tf.range(1, 3, dtype='float32')\n",
        "\n",
        "loss = tf.reduce_mean((y_guess - y_true)**2) # mean squared error"
      ],
      "execution_count": 0,
      "outputs": []
    },
    {
      "cell_type": "code",
      "metadata": {
        "id": "w_5wN7UcjP_C",
        "colab_type": "code",
        "colab": {
          "base_uri": "https://localhost:8080/",
          "height": 35
        },
        "outputId": "421906d6-651a-4d59-e462-1817c9dce131"
      },
      "source": [
        "loss"
      ],
      "execution_count": 89,
      "outputs": [
        {
          "output_type": "execute_result",
          "data": {
            "text/plain": [
              "<tf.Tensor: shape=(), dtype=float32, numpy=2.5>"
            ]
          },
          "metadata": {
            "tags": []
          },
          "execution_count": 89
        }
      ]
    },
    {
      "cell_type": "code",
      "metadata": {
        "id": "LCVAM9kAjQ7Q",
        "colab_type": "code",
        "colab": {}
      },
      "source": [
        "optimizer=tf.optimizers.SGD(learning_rate=0.01,momentum=0.9)"
      ],
      "execution_count": 0,
      "outputs": []
    },
    {
      "cell_type": "code",
      "metadata": {
        "id": "PKhT-dS_hebE",
        "colab_type": "code",
        "colab": {
          "base_uri": "https://localhost:8080/",
          "height": 516
        },
        "outputId": "2fac6a62-147e-45e9-d1ea-db963ccd782e"
      },
      "source": [
        "help(optimizer.minimize)"
      ],
      "execution_count": 99,
      "outputs": [
        {
          "output_type": "stream",
          "text": [
            "Help on method minimize in module tensorflow.python.keras.optimizer_v2.optimizer_v2:\n",
            "\n",
            "minimize(loss, var_list, grad_loss=None, name=None) method of tensorflow.python.keras.optimizer_v2.gradient_descent.SGD instance\n",
            "    Minimize `loss` by updating `var_list`.\n",
            "    \n",
            "    This method simply computes gradient using `tf.GradientTape` and calls\n",
            "    `apply_gradients()`. If you want to process the gradient before applying\n",
            "    then call `tf.GradientTape` and `apply_gradients()` explicitly instead\n",
            "    of using this function.\n",
            "    \n",
            "    Args:\n",
            "      loss: A callable taking no arguments which returns the value to minimize.\n",
            "      var_list: list or tuple of `Variable` objects to update to minimize\n",
            "        `loss`, or a callable returning the list or tuple of `Variable` objects.\n",
            "        Use callable when the variable list would otherwise be incomplete before\n",
            "        `minimize` since the variables are created at the first time `loss` is\n",
            "        called.\n",
            "      grad_loss: Optional. A `Tensor` holding the gradient computed for `loss`.\n",
            "      name: Optional name for the returned operation.\n",
            "    \n",
            "    Returns:\n",
            "      An `Operation` that updates the variables in `var_list`. The `iterations`\n",
            "      will be automatically increased by 1.\n",
            "    \n",
            "    Raises:\n",
            "      ValueError: If some of the variables are not `Variable` objects.\n",
            "\n"
          ],
          "name": "stdout"
        }
      ]
    },
    {
      "cell_type": "code",
      "metadata": {
        "id": "1MTdkh8bkxmJ",
        "colab_type": "code",
        "colab": {}
      },
      "source": [
        "@tf.function\n",
        "def loss(prediction,ground_truth):\n",
        "  return tf.reduce_sum((prediction-ground_truth)**2)"
      ],
      "execution_count": 0,
      "outputs": []
    },
    {
      "cell_type": "code",
      "metadata": {
        "id": "vfQomR8YkYlU",
        "colab_type": "code",
        "colab": {
          "base_uri": "https://localhost:8080/",
          "height": 35
        },
        "outputId": "445c0520-3f56-4945-f9c9-4b29cb0df90c"
      },
      "source": [
        "loss(y_guess,y_true)"
      ],
      "execution_count": 106,
      "outputs": [
        {
          "output_type": "execute_result",
          "data": {
            "text/plain": [
              "<tf.Tensor: shape=(), dtype=float32, numpy=5.0>"
            ]
          },
          "metadata": {
            "tags": []
          },
          "execution_count": 106
        }
      ]
    },
    {
      "cell_type": "code",
      "metadata": {
        "id": "liu0CU-Almas",
        "colab_type": "code",
        "colab": {}
      },
      "source": [
        ""
      ],
      "execution_count": 0,
      "outputs": []
    }
  ]
}