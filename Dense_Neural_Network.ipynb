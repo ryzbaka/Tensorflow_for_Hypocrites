{
  "nbformat": 4,
  "nbformat_minor": 0,
  "metadata": {
    "colab": {
      "name": "Dense_Neural_Network.ipynb",
      "provenance": []
    },
    "kernelspec": {
      "name": "python3",
      "display_name": "Python 3"
    }
  },
  "cells": [
    {
      "cell_type": "code",
      "metadata": {
        "id": "Xx0h5Y6G3siA",
        "colab_type": "code",
        "colab": {
          "base_uri": "https://localhost:8080/",
          "height": 296
        },
        "outputId": "f0c47968-290a-4ec0-c509-9312eb9257ac"
      },
      "source": [
        "!pip uninstall tensorflow"
      ],
      "execution_count": 1,
      "outputs": [
        {
          "output_type": "stream",
          "text": [
            "Uninstalling tensorflow-1.15.0:\n",
            "  Would remove:\n",
            "    /usr/local/bin/estimator_ckpt_converter\n",
            "    /usr/local/bin/freeze_graph\n",
            "    /usr/local/bin/saved_model_cli\n",
            "    /usr/local/bin/tensorboard\n",
            "    /usr/local/bin/tf_upgrade_v2\n",
            "    /usr/local/bin/tflite_convert\n",
            "    /usr/local/bin/toco\n",
            "    /usr/local/bin/toco_from_protos\n",
            "    /usr/local/lib/python3.6/dist-packages/tensorflow-1.15.0.dist-info/*\n",
            "    /usr/local/lib/python3.6/dist-packages/tensorflow/*\n",
            "    /usr/local/lib/python3.6/dist-packages/tensorflow_core/*\n",
            "Proceed (y/n)? y\n",
            "  Successfully uninstalled tensorflow-1.15.0\n"
          ],
          "name": "stdout"
        }
      ]
    },
    {
      "cell_type": "code",
      "metadata": {
        "id": "-V8QQJus3vKx",
        "colab_type": "code",
        "colab": {
          "base_uri": "https://localhost:8080/",
          "height": 928
        },
        "outputId": "f2a33510-4c6f-4d65-8de9-4b551bd6e2ea"
      },
      "source": [
        "!pip install tensorflow==2.0.0"
      ],
      "execution_count": 2,
      "outputs": [
        {
          "output_type": "stream",
          "text": [
            "Collecting tensorflow==2.0.0\n",
            "\u001b[?25l  Downloading https://files.pythonhosted.org/packages/46/0f/7bd55361168bb32796b360ad15a25de6966c9c1beb58a8e30c01c8279862/tensorflow-2.0.0-cp36-cp36m-manylinux2010_x86_64.whl (86.3MB)\n",
            "\u001b[K     |████████████████████████████████| 86.3MB 119kB/s \n",
            "\u001b[?25hRequirement already satisfied: absl-py>=0.7.0 in /usr/local/lib/python3.6/dist-packages (from tensorflow==2.0.0) (0.9.0)\n",
            "Requirement already satisfied: keras-applications>=1.0.8 in /usr/local/lib/python3.6/dist-packages (from tensorflow==2.0.0) (1.0.8)\n",
            "Requirement already satisfied: keras-preprocessing>=1.0.5 in /usr/local/lib/python3.6/dist-packages (from tensorflow==2.0.0) (1.1.0)\n",
            "Requirement already satisfied: numpy<2.0,>=1.16.0 in /usr/local/lib/python3.6/dist-packages (from tensorflow==2.0.0) (1.17.5)\n",
            "Requirement already satisfied: grpcio>=1.8.6 in /usr/local/lib/python3.6/dist-packages (from tensorflow==2.0.0) (1.27.1)\n",
            "Requirement already satisfied: google-pasta>=0.1.6 in /usr/local/lib/python3.6/dist-packages (from tensorflow==2.0.0) (0.1.8)\n",
            "Requirement already satisfied: gast==0.2.2 in /usr/local/lib/python3.6/dist-packages (from tensorflow==2.0.0) (0.2.2)\n",
            "Requirement already satisfied: opt-einsum>=2.3.2 in /usr/local/lib/python3.6/dist-packages (from tensorflow==2.0.0) (3.1.0)\n",
            "Collecting tensorboard<2.1.0,>=2.0.0\n",
            "\u001b[?25l  Downloading https://files.pythonhosted.org/packages/76/54/99b9d5d52d5cb732f099baaaf7740403e83fe6b0cedde940fabd2b13d75a/tensorboard-2.0.2-py3-none-any.whl (3.8MB)\n",
            "\u001b[K     |████████████████████████████████| 3.8MB 28.6MB/s \n",
            "\u001b[?25hRequirement already satisfied: six>=1.10.0 in /usr/local/lib/python3.6/dist-packages (from tensorflow==2.0.0) (1.12.0)\n",
            "Requirement already satisfied: protobuf>=3.6.1 in /usr/local/lib/python3.6/dist-packages (from tensorflow==2.0.0) (3.10.0)\n",
            "Collecting tensorflow-estimator<2.1.0,>=2.0.0\n",
            "\u001b[?25l  Downloading https://files.pythonhosted.org/packages/fc/08/8b927337b7019c374719145d1dceba21a8bb909b93b1ad6f8fb7d22c1ca1/tensorflow_estimator-2.0.1-py2.py3-none-any.whl (449kB)\n",
            "\u001b[K     |████████████████████████████████| 450kB 31.0MB/s \n",
            "\u001b[?25hRequirement already satisfied: termcolor>=1.1.0 in /usr/local/lib/python3.6/dist-packages (from tensorflow==2.0.0) (1.1.0)\n",
            "Requirement already satisfied: wrapt>=1.11.1 in /usr/local/lib/python3.6/dist-packages (from tensorflow==2.0.0) (1.11.2)\n",
            "Requirement already satisfied: astor>=0.6.0 in /usr/local/lib/python3.6/dist-packages (from tensorflow==2.0.0) (0.8.1)\n",
            "Requirement already satisfied: wheel>=0.26 in /usr/local/lib/python3.6/dist-packages (from tensorflow==2.0.0) (0.34.2)\n",
            "Requirement already satisfied: h5py in /usr/local/lib/python3.6/dist-packages (from keras-applications>=1.0.8->tensorflow==2.0.0) (2.8.0)\n",
            "Requirement already satisfied: werkzeug>=0.11.15 in /usr/local/lib/python3.6/dist-packages (from tensorboard<2.1.0,>=2.0.0->tensorflow==2.0.0) (1.0.0)\n",
            "Requirement already satisfied: requests<3,>=2.21.0 in /usr/local/lib/python3.6/dist-packages (from tensorboard<2.1.0,>=2.0.0->tensorflow==2.0.0) (2.21.0)\n",
            "Requirement already satisfied: google-auth<2,>=1.6.3 in /usr/local/lib/python3.6/dist-packages (from tensorboard<2.1.0,>=2.0.0->tensorflow==2.0.0) (1.7.2)\n",
            "Requirement already satisfied: markdown>=2.6.8 in /usr/local/lib/python3.6/dist-packages (from tensorboard<2.1.0,>=2.0.0->tensorflow==2.0.0) (3.2.1)\n",
            "Requirement already satisfied: setuptools>=41.0.0 in /usr/local/lib/python3.6/dist-packages (from tensorboard<2.1.0,>=2.0.0->tensorflow==2.0.0) (45.1.0)\n",
            "Requirement already satisfied: google-auth-oauthlib<0.5,>=0.4.1 in /usr/local/lib/python3.6/dist-packages (from tensorboard<2.1.0,>=2.0.0->tensorflow==2.0.0) (0.4.1)\n",
            "Requirement already satisfied: chardet<3.1.0,>=3.0.2 in /usr/local/lib/python3.6/dist-packages (from requests<3,>=2.21.0->tensorboard<2.1.0,>=2.0.0->tensorflow==2.0.0) (3.0.4)\n",
            "Requirement already satisfied: urllib3<1.25,>=1.21.1 in /usr/local/lib/python3.6/dist-packages (from requests<3,>=2.21.0->tensorboard<2.1.0,>=2.0.0->tensorflow==2.0.0) (1.24.3)\n",
            "Requirement already satisfied: certifi>=2017.4.17 in /usr/local/lib/python3.6/dist-packages (from requests<3,>=2.21.0->tensorboard<2.1.0,>=2.0.0->tensorflow==2.0.0) (2019.11.28)\n",
            "Requirement already satisfied: idna<2.9,>=2.5 in /usr/local/lib/python3.6/dist-packages (from requests<3,>=2.21.0->tensorboard<2.1.0,>=2.0.0->tensorflow==2.0.0) (2.8)\n",
            "Requirement already satisfied: pyasn1-modules>=0.2.1 in /usr/local/lib/python3.6/dist-packages (from google-auth<2,>=1.6.3->tensorboard<2.1.0,>=2.0.0->tensorflow==2.0.0) (0.2.8)\n",
            "Requirement already satisfied: rsa<4.1,>=3.1.4 in /usr/local/lib/python3.6/dist-packages (from google-auth<2,>=1.6.3->tensorboard<2.1.0,>=2.0.0->tensorflow==2.0.0) (4.0)\n",
            "Requirement already satisfied: cachetools<3.2,>=2.0.0 in /usr/local/lib/python3.6/dist-packages (from google-auth<2,>=1.6.3->tensorboard<2.1.0,>=2.0.0->tensorflow==2.0.0) (3.1.1)\n",
            "Requirement already satisfied: requests-oauthlib>=0.7.0 in /usr/local/lib/python3.6/dist-packages (from google-auth-oauthlib<0.5,>=0.4.1->tensorboard<2.1.0,>=2.0.0->tensorflow==2.0.0) (1.3.0)\n",
            "Requirement already satisfied: pyasn1<0.5.0,>=0.4.6 in /usr/local/lib/python3.6/dist-packages (from pyasn1-modules>=0.2.1->google-auth<2,>=1.6.3->tensorboard<2.1.0,>=2.0.0->tensorflow==2.0.0) (0.4.8)\n",
            "Requirement already satisfied: oauthlib>=3.0.0 in /usr/local/lib/python3.6/dist-packages (from requests-oauthlib>=0.7.0->google-auth-oauthlib<0.5,>=0.4.1->tensorboard<2.1.0,>=2.0.0->tensorflow==2.0.0) (3.1.0)\n",
            "Installing collected packages: tensorboard, tensorflow-estimator, tensorflow\n",
            "  Found existing installation: tensorboard 1.15.0\n",
            "    Uninstalling tensorboard-1.15.0:\n",
            "      Successfully uninstalled tensorboard-1.15.0\n",
            "  Found existing installation: tensorflow-estimator 1.15.1\n",
            "    Uninstalling tensorflow-estimator-1.15.1:\n",
            "      Successfully uninstalled tensorflow-estimator-1.15.1\n",
            "Successfully installed tensorboard-2.0.2 tensorflow-2.0.0 tensorflow-estimator-2.0.1\n"
          ],
          "name": "stdout"
        }
      ]
    },
    {
      "cell_type": "code",
      "metadata": {
        "id": "FzWIAjkb3y05",
        "colab_type": "code",
        "colab": {
          "base_uri": "https://localhost:8080/",
          "height": 36
        },
        "outputId": "e3171653-0230-4528-e256-def909b0ec7b"
      },
      "source": [
        "import tensorflow as tf\n",
        "\n",
        "tf.__version__"
      ],
      "execution_count": 3,
      "outputs": [
        {
          "output_type": "execute_result",
          "data": {
            "text/plain": [
              "'2.0.0'"
            ]
          },
          "metadata": {
            "tags": []
          },
          "execution_count": 3
        }
      ]
    },
    {
      "cell_type": "code",
      "metadata": {
        "id": "1d-a2WXU34qL",
        "colab_type": "code",
        "colab": {}
      },
      "source": [
        "from tensorflow import keras"
      ],
      "execution_count": 0,
      "outputs": []
    },
    {
      "cell_type": "code",
      "metadata": {
        "id": "1wr9JXBH3-Av",
        "colab_type": "code",
        "colab": {
          "base_uri": "https://localhost:8080/",
          "height": 166
        },
        "outputId": "df9f738b-7a95-4f56-ecb6-3fee7379ad12"
      },
      "source": [
        "fashion_mnist=keras.datasets.fashion_mnist\n",
        "(trainx,trainy),(testx,testy)=fashion_mnist.load_data()"
      ],
      "execution_count": 5,
      "outputs": [
        {
          "output_type": "stream",
          "text": [
            "Downloading data from https://storage.googleapis.com/tensorflow/tf-keras-datasets/train-labels-idx1-ubyte.gz\n",
            "32768/29515 [=================================] - 0s 0us/step\n",
            "Downloading data from https://storage.googleapis.com/tensorflow/tf-keras-datasets/train-images-idx3-ubyte.gz\n",
            "26427392/26421880 [==============================] - 0s 0us/step\n",
            "Downloading data from https://storage.googleapis.com/tensorflow/tf-keras-datasets/t10k-labels-idx1-ubyte.gz\n",
            "8192/5148 [===============================================] - 0s 0us/step\n",
            "Downloading data from https://storage.googleapis.com/tensorflow/tf-keras-datasets/t10k-images-idx3-ubyte.gz\n",
            "4423680/4422102 [==============================] - 0s 0us/step\n"
          ],
          "name": "stdout"
        }
      ]
    },
    {
      "cell_type": "code",
      "metadata": {
        "id": "9WsQxOh04Nf4",
        "colab_type": "code",
        "colab": {
          "base_uri": "https://localhost:8080/",
          "height": 36
        },
        "outputId": "52c787e4-64fe-4147-f6d8-87e86741491f"
      },
      "source": [
        "trainx.shape"
      ],
      "execution_count": 6,
      "outputs": [
        {
          "output_type": "execute_result",
          "data": {
            "text/plain": [
              "(60000, 28, 28)"
            ]
          },
          "metadata": {
            "tags": []
          },
          "execution_count": 6
        }
      ]
    },
    {
      "cell_type": "code",
      "metadata": {
        "id": "kteh4h0p4QDJ",
        "colab_type": "code",
        "colab": {
          "base_uri": "https://localhost:8080/",
          "height": 36
        },
        "outputId": "1c6af6fe-91bb-4e16-8dfa-eed365b3ed96"
      },
      "source": [
        "type(trainx)"
      ],
      "execution_count": 7,
      "outputs": [
        {
          "output_type": "execute_result",
          "data": {
            "text/plain": [
              "numpy.ndarray"
            ]
          },
          "metadata": {
            "tags": []
          },
          "execution_count": 7
        }
      ]
    },
    {
      "cell_type": "code",
      "metadata": {
        "id": "JIdyNcZS4QzP",
        "colab_type": "code",
        "colab": {
          "base_uri": "https://localhost:8080/",
          "height": 36
        },
        "outputId": "e2f36d2b-fb68-4c14-bd81-5662a53d7f35"
      },
      "source": [
        "trainy.shape"
      ],
      "execution_count": 8,
      "outputs": [
        {
          "output_type": "execute_result",
          "data": {
            "text/plain": [
              "(60000,)"
            ]
          },
          "metadata": {
            "tags": []
          },
          "execution_count": 8
        }
      ]
    },
    {
      "cell_type": "code",
      "metadata": {
        "id": "XS2A75yrE5UW",
        "colab_type": "code",
        "colab": {
          "base_uri": "https://localhost:8080/",
          "height": 36
        },
        "outputId": "1b5c3524-51cd-40d3-ad61-5866173eb2b4"
      },
      "source": [
        "testx.shape"
      ],
      "execution_count": 9,
      "outputs": [
        {
          "output_type": "execute_result",
          "data": {
            "text/plain": [
              "(10000, 28, 28)"
            ]
          },
          "metadata": {
            "tags": []
          },
          "execution_count": 9
        }
      ]
    },
    {
      "cell_type": "code",
      "metadata": {
        "id": "TPM9LBpiE7b_",
        "colab_type": "code",
        "colab": {
          "base_uri": "https://localhost:8080/",
          "height": 36
        },
        "outputId": "51309d4a-59d1-4f34-c127-3e4d322eb3e6"
      },
      "source": [
        "testy.shape"
      ],
      "execution_count": 10,
      "outputs": [
        {
          "output_type": "execute_result",
          "data": {
            "text/plain": [
              "(10000,)"
            ]
          },
          "metadata": {
            "tags": []
          },
          "execution_count": 10
        }
      ]
    },
    {
      "cell_type": "code",
      "metadata": {
        "id": "RrKogxmaE9g2",
        "colab_type": "code",
        "colab": {}
      },
      "source": [
        "trainx,testx=trainx/255.0,testx/255.0"
      ],
      "execution_count": 0,
      "outputs": []
    },
    {
      "cell_type": "code",
      "metadata": {
        "id": "g9CI6MzRFfB5",
        "colab_type": "code",
        "colab": {
          "base_uri": "https://localhost:8080/",
          "height": 36
        },
        "outputId": "ce08fbe6-53b1-450d-81ce-4c34ef3d7e38"
      },
      "source": [
        "trainx.shape"
      ],
      "execution_count": 14,
      "outputs": [
        {
          "output_type": "execute_result",
          "data": {
            "text/plain": [
              "(60000, 28, 28)"
            ]
          },
          "metadata": {
            "tags": []
          },
          "execution_count": 14
        }
      ]
    },
    {
      "cell_type": "code",
      "metadata": {
        "id": "zjkKlrVRFsZO",
        "colab_type": "code",
        "colab": {}
      },
      "source": [
        "from tensorflow.keras.models import Sequential\n",
        "from tensorflow.keras.layers import Dense,Flatten"
      ],
      "execution_count": 0,
      "outputs": []
    },
    {
      "cell_type": "code",
      "metadata": {
        "id": "86imu4-tGARy",
        "colab_type": "code",
        "colab": {}
      },
      "source": [
        "model=Sequential()"
      ],
      "execution_count": 0,
      "outputs": []
    },
    {
      "cell_type": "code",
      "metadata": {
        "id": "Iu74hro7GRK7",
        "colab_type": "code",
        "colab": {}
      },
      "source": [
        "model.add(Flatten(input_shape=[28,28]))"
      ],
      "execution_count": 0,
      "outputs": []
    },
    {
      "cell_type": "code",
      "metadata": {
        "id": "N1dB6jV0Ga6B",
        "colab_type": "code",
        "colab": {}
      },
      "source": [
        "from tensorflow.keras.layers import Dropout\n",
        "model.add(Dense(300,activation='relu'))\n",
        "model.add(Dropout(0.2))\n",
        "model.add(Dense(100,activation='relu'))\n",
        "model.add(Dense(10,activation='softmax'))"
      ],
      "execution_count": 0,
      "outputs": []
    },
    {
      "cell_type": "code",
      "metadata": {
        "id": "bpbJZ5g4Gejt",
        "colab_type": "code",
        "colab": {
          "base_uri": "https://localhost:8080/",
          "height": 351
        },
        "outputId": "5b4cb473-c610-4103-fd2a-6682d0315ccf"
      },
      "source": [
        "model.summary()"
      ],
      "execution_count": 45,
      "outputs": [
        {
          "output_type": "stream",
          "text": [
            "Model: \"sequential_1\"\n",
            "_________________________________________________________________\n",
            "Layer (type)                 Output Shape              Param #   \n",
            "=================================================================\n",
            "flatten_1 (Flatten)          (None, 784)               0         \n",
            "_________________________________________________________________\n",
            "dense_3 (Dense)              (None, 300)               235500    \n",
            "_________________________________________________________________\n",
            "dropout (Dropout)            (None, 300)               0         \n",
            "_________________________________________________________________\n",
            "dense_4 (Dense)              (None, 100)               30100     \n",
            "_________________________________________________________________\n",
            "dense_5 (Dense)              (None, 10)                1010      \n",
            "=================================================================\n",
            "Total params: 266,610\n",
            "Trainable params: 266,610\n",
            "Non-trainable params: 0\n",
            "_________________________________________________________________\n"
          ],
          "name": "stdout"
        }
      ]
    },
    {
      "cell_type": "code",
      "metadata": {
        "id": "dmkSQBFmGgDQ",
        "colab_type": "code",
        "colab": {
          "base_uri": "https://localhost:8080/",
          "height": 91
        },
        "outputId": "1b2f93a0-d063-4db2-b13d-df3b9b28b6ef"
      },
      "source": [
        "model.layers"
      ],
      "execution_count": 23,
      "outputs": [
        {
          "output_type": "execute_result",
          "data": {
            "text/plain": [
              "[<tensorflow.python.keras.layers.core.Flatten at 0x7fb6a69a96a0>,\n",
              " <tensorflow.python.keras.layers.core.Dense at 0x7fb6a60be160>,\n",
              " <tensorflow.python.keras.layers.core.Dense at 0x7fb6a69a9e48>,\n",
              " <tensorflow.python.keras.layers.core.Dense at 0x7fb6a60be748>]"
            ]
          },
          "metadata": {
            "tags": []
          },
          "execution_count": 23
        }
      ]
    },
    {
      "cell_type": "code",
      "metadata": {
        "id": "3iot3QkXGp2E",
        "colab_type": "code",
        "colab": {}
      },
      "source": [
        "weights,bias=model.layers[1].get_weights()"
      ],
      "execution_count": 0,
      "outputs": []
    },
    {
      "cell_type": "code",
      "metadata": {
        "id": "06n8sKN8G5Jj",
        "colab_type": "code",
        "colab": {
          "base_uri": "https://localhost:8080/",
          "height": 36
        },
        "outputId": "7321115f-9f4a-44ea-dcfa-87e0b44aad12"
      },
      "source": [
        "weights.shape"
      ],
      "execution_count": 25,
      "outputs": [
        {
          "output_type": "execute_result",
          "data": {
            "text/plain": [
              "(784, 300)"
            ]
          },
          "metadata": {
            "tags": []
          },
          "execution_count": 25
        }
      ]
    },
    {
      "cell_type": "code",
      "metadata": {
        "id": "cf6uuZDzG7Ab",
        "colab_type": "code",
        "colab": {}
      },
      "source": [
        "model.compile(loss='sparse_categorical_crossentropy',\n",
        "              optimizer='sgd',#always scale values when using sgd\n",
        "              metrics=['accuracy'])"
      ],
      "execution_count": 0,
      "outputs": []
    },
    {
      "cell_type": "code",
      "metadata": {
        "id": "wl6czp1YHMxI",
        "colab_type": "code",
        "colab": {
          "base_uri": "https://localhost:8080/",
          "height": 1000
        },
        "outputId": "6b34e24f-a297-4c82-8309-74df6fee89b1"
      },
      "source": [
        "history=model.fit(trainx,trainy,epochs=40,validation_data=[testx,testy])"
      ],
      "execution_count": 47,
      "outputs": [
        {
          "output_type": "stream",
          "text": [
            "Train on 60000 samples, validate on 10000 samples\n",
            "Epoch 1/40\n",
            "60000/60000 [==============================] - 9s 150us/sample - loss: 0.7838 - accuracy: 0.7380 - val_loss: 0.5475 - val_accuracy: 0.8067\n",
            "Epoch 2/40\n",
            "60000/60000 [==============================] - 8s 138us/sample - loss: 0.5174 - accuracy: 0.8207 - val_loss: 0.4762 - val_accuracy: 0.8319\n",
            "Epoch 3/40\n",
            "60000/60000 [==============================] - 9s 148us/sample - loss: 0.4629 - accuracy: 0.8386 - val_loss: 0.4427 - val_accuracy: 0.8420\n",
            "Epoch 4/40\n",
            "60000/60000 [==============================] - 12s 194us/sample - loss: 0.4289 - accuracy: 0.8490 - val_loss: 0.4275 - val_accuracy: 0.8483\n",
            "Epoch 5/40\n",
            "60000/60000 [==============================] - 11s 176us/sample - loss: 0.4062 - accuracy: 0.8561 - val_loss: 0.4069 - val_accuracy: 0.8532\n",
            "Epoch 6/40\n",
            "60000/60000 [==============================] - 11s 176us/sample - loss: 0.3875 - accuracy: 0.8621 - val_loss: 0.4007 - val_accuracy: 0.8556\n",
            "Epoch 7/40\n",
            "60000/60000 [==============================] - 10s 172us/sample - loss: 0.3732 - accuracy: 0.8670 - val_loss: 0.4149 - val_accuracy: 0.8518\n",
            "Epoch 8/40\n",
            "60000/60000 [==============================] - 10s 175us/sample - loss: 0.3624 - accuracy: 0.8714 - val_loss: 0.3931 - val_accuracy: 0.8590\n",
            "Epoch 9/40\n",
            "60000/60000 [==============================] - 10s 169us/sample - loss: 0.3516 - accuracy: 0.8723 - val_loss: 0.3781 - val_accuracy: 0.8623\n",
            "Epoch 10/40\n",
            "60000/60000 [==============================] - 9s 145us/sample - loss: 0.3420 - accuracy: 0.8768 - val_loss: 0.3642 - val_accuracy: 0.8720\n",
            "Epoch 11/40\n",
            "60000/60000 [==============================] - 10s 174us/sample - loss: 0.3333 - accuracy: 0.8815 - val_loss: 0.3656 - val_accuracy: 0.8676\n",
            "Epoch 12/40\n",
            "60000/60000 [==============================] - 8s 140us/sample - loss: 0.3263 - accuracy: 0.8827 - val_loss: 0.3568 - val_accuracy: 0.8705\n",
            "Epoch 13/40\n",
            "60000/60000 [==============================] - 8s 141us/sample - loss: 0.3186 - accuracy: 0.8862 - val_loss: 0.3593 - val_accuracy: 0.8689\n",
            "Epoch 14/40\n",
            "60000/60000 [==============================] - 10s 164us/sample - loss: 0.3129 - accuracy: 0.8880 - val_loss: 0.3500 - val_accuracy: 0.8710\n",
            "Epoch 15/40\n",
            "60000/60000 [==============================] - 8s 142us/sample - loss: 0.3073 - accuracy: 0.8885 - val_loss: 0.3395 - val_accuracy: 0.8788\n",
            "Epoch 16/40\n",
            "60000/60000 [==============================] - 10s 161us/sample - loss: 0.2999 - accuracy: 0.8917 - val_loss: 0.3372 - val_accuracy: 0.8790\n",
            "Epoch 17/40\n",
            "60000/60000 [==============================] - 8s 141us/sample - loss: 0.2965 - accuracy: 0.8927 - val_loss: 0.3348 - val_accuracy: 0.8774\n",
            "Epoch 18/40\n",
            "60000/60000 [==============================] - 10s 164us/sample - loss: 0.2899 - accuracy: 0.8942 - val_loss: 0.3314 - val_accuracy: 0.8812\n",
            "Epoch 19/40\n",
            "60000/60000 [==============================] - 10s 173us/sample - loss: 0.2851 - accuracy: 0.8966 - val_loss: 0.3314 - val_accuracy: 0.8788\n",
            "Epoch 20/40\n",
            "60000/60000 [==============================] - 10s 165us/sample - loss: 0.2816 - accuracy: 0.8973 - val_loss: 0.3340 - val_accuracy: 0.8808\n",
            "Epoch 21/40\n",
            "60000/60000 [==============================] - 9s 145us/sample - loss: 0.2774 - accuracy: 0.8983 - val_loss: 0.3292 - val_accuracy: 0.8813\n",
            "Epoch 22/40\n",
            "60000/60000 [==============================] - 8s 141us/sample - loss: 0.2739 - accuracy: 0.9006 - val_loss: 0.3330 - val_accuracy: 0.8782\n",
            "Epoch 23/40\n",
            "60000/60000 [==============================] - 8s 141us/sample - loss: 0.2683 - accuracy: 0.9029 - val_loss: 0.3342 - val_accuracy: 0.8779\n",
            "Epoch 24/40\n",
            "60000/60000 [==============================] - 8s 138us/sample - loss: 0.2651 - accuracy: 0.9049 - val_loss: 0.3219 - val_accuracy: 0.8837\n",
            "Epoch 25/40\n",
            "60000/60000 [==============================] - 8s 136us/sample - loss: 0.2626 - accuracy: 0.9042 - val_loss: 0.3168 - val_accuracy: 0.8886\n",
            "Epoch 26/40\n",
            "60000/60000 [==============================] - 8s 137us/sample - loss: 0.2584 - accuracy: 0.9069 - val_loss: 0.3225 - val_accuracy: 0.8848\n",
            "Epoch 27/40\n",
            "60000/60000 [==============================] - 8s 139us/sample - loss: 0.2540 - accuracy: 0.9075 - val_loss: 0.3209 - val_accuracy: 0.8831\n",
            "Epoch 28/40\n",
            "60000/60000 [==============================] - 8s 140us/sample - loss: 0.2510 - accuracy: 0.9091 - val_loss: 0.3353 - val_accuracy: 0.8799\n",
            "Epoch 29/40\n",
            "60000/60000 [==============================] - 8s 141us/sample - loss: 0.2478 - accuracy: 0.9091 - val_loss: 0.3145 - val_accuracy: 0.8907\n",
            "Epoch 30/40\n",
            "60000/60000 [==============================] - 8s 138us/sample - loss: 0.2438 - accuracy: 0.9111 - val_loss: 0.3124 - val_accuracy: 0.8876\n",
            "Epoch 31/40\n",
            "60000/60000 [==============================] - 9s 143us/sample - loss: 0.2408 - accuracy: 0.9112 - val_loss: 0.3203 - val_accuracy: 0.8883\n",
            "Epoch 32/40\n",
            "60000/60000 [==============================] - 9s 148us/sample - loss: 0.2385 - accuracy: 0.9131 - val_loss: 0.3171 - val_accuracy: 0.8894\n",
            "Epoch 33/40\n",
            "60000/60000 [==============================] - 9s 148us/sample - loss: 0.2365 - accuracy: 0.9128 - val_loss: 0.3109 - val_accuracy: 0.8912\n",
            "Epoch 34/40\n",
            "60000/60000 [==============================] - 8s 141us/sample - loss: 0.2320 - accuracy: 0.9147 - val_loss: 0.3066 - val_accuracy: 0.8890\n",
            "Epoch 35/40\n",
            "60000/60000 [==============================] - 8s 140us/sample - loss: 0.2296 - accuracy: 0.9162 - val_loss: 0.3139 - val_accuracy: 0.8893\n",
            "Epoch 36/40\n",
            "60000/60000 [==============================] - 8s 140us/sample - loss: 0.2266 - accuracy: 0.9162 - val_loss: 0.3076 - val_accuracy: 0.8915\n",
            "Epoch 37/40\n",
            "60000/60000 [==============================] - 9s 143us/sample - loss: 0.2250 - accuracy: 0.9167 - val_loss: 0.3129 - val_accuracy: 0.8885\n",
            "Epoch 38/40\n",
            "60000/60000 [==============================] - 9s 149us/sample - loss: 0.2215 - accuracy: 0.9176 - val_loss: 0.3128 - val_accuracy: 0.8884\n",
            "Epoch 39/40\n",
            "60000/60000 [==============================] - 8s 134us/sample - loss: 0.2201 - accuracy: 0.9197 - val_loss: 0.3122 - val_accuracy: 0.8920\n",
            "Epoch 40/40\n",
            "60000/60000 [==============================] - 8s 137us/sample - loss: 0.2156 - accuracy: 0.9208 - val_loss: 0.3170 - val_accuracy: 0.8872\n"
          ],
          "name": "stdout"
        }
      ]
    },
    {
      "cell_type": "code",
      "metadata": {
        "id": "r3ghA7TiICEW",
        "colab_type": "code",
        "colab": {
          "base_uri": "https://localhost:8080/",
          "height": 36
        },
        "outputId": "f5a14913-7fb0-4c06-8324-e55253e16cf3"
      },
      "source": [
        "print(type(history.history)) #dictionary"
      ],
      "execution_count": 33,
      "outputs": [
        {
          "output_type": "stream",
          "text": [
            "<class 'dict'>\n"
          ],
          "name": "stdout"
        }
      ]
    },
    {
      "cell_type": "code",
      "metadata": {
        "id": "tFbcqZQBH0qr",
        "colab_type": "code",
        "colab": {}
      },
      "source": [
        "accuracies=history.history['accuracy']\n",
        "valacc=history.history['val_accuracy']"
      ],
      "execution_count": 0,
      "outputs": []
    },
    {
      "cell_type": "code",
      "metadata": {
        "id": "vzc0nWF_I7Fq",
        "colab_type": "code",
        "colab": {
          "base_uri": "https://localhost:8080/",
          "height": 284
        },
        "outputId": "9714342b-0284-4b60-b6ab-712cc62bb1a3"
      },
      "source": [
        "import matplotlib.pyplot as plt\n",
        "%matplotlib inline\n",
        "plt.plot(accuracies)\n",
        "plt.plot(valacc)"
      ],
      "execution_count": 49,
      "outputs": [
        {
          "output_type": "execute_result",
          "data": {
            "text/plain": [
              "[<matplotlib.lines.Line2D at 0x7fb69f9e57b8>]"
            ]
          },
          "metadata": {
            "tags": []
          },
          "execution_count": 49
        },
        {
          "output_type": "display_data",
          "data": {
            "image/png": "[encoded data removed]",
            "text/plain": [
              "<Figure size 432x288 with 1 Axes>"
            ]
          },
          "metadata": {
            "tags": []
          }
        }
      ]
    },
    {
      "cell_type": "code",
      "metadata": {
        "id": "CrpXPOZRI9aX",
        "colab_type": "code",
        "colab": {
          "base_uri": "https://localhost:8080/",
          "height": 284
        },
        "outputId": "47799731-1f55-47fe-d6d6-109843133de4"
      },
      "source": [
        "import pandas as pd\n",
        "\n",
        "df=pd.DataFrame(history.history)\n",
        "df.plot(kind='line')"
      ],
      "execution_count": 51,
      "outputs": [
        {
          "output_type": "execute_result",
          "data": {
            "text/plain": [
              "<matplotlib.axes._subplots.AxesSubplot at 0x7fb69c8f4c50>"
            ]
          },
          "metadata": {
            "tags": []
          },
          "execution_count": 51
        },
        {
          "output_type": "display_data",
          "data": {
            "image/png": "[encoded data removed]",
            "text/plain": [
              "<Figure size 432x288 with 1 Axes>"
            ]
          },
          "metadata": {
            "tags": []
          }
        }
      ]
    },
    {
      "cell_type": "markdown",
      "metadata": {
        "id": "bkSuB-UeMWNa",
        "colab_type": "text"
      },
      "source": [
        "## Same model using the keras functional API"
      ]
    },
    {
      "cell_type": "code",
      "metadata": {
        "id": "H6fPZIiSLvg-",
        "colab_type": "code",
        "colab": {}
      },
      "source": [
        "from tensorflow.keras.layers import Input,Flatten,Dense\n",
        "from tensorflow.keras.models import Model\n",
        "\n",
        "input_layer=Input(shape=[28,28])\n",
        "flatten_layer=Flatten()(input_layer)\n",
        "dense_1=Dense(units=300,activation='relu')(flatten_layer)\n",
        "dense_2=Dense(units=100,activation='relu')(dense_1)\n",
        "output_layer=Dense(units=10,activation='softmax')(dense_2)\n",
        "\n",
        "model=Model(input_layer,output_layer)"
      ],
      "execution_count": 0,
      "outputs": []
    },
    {
      "cell_type": "code",
      "metadata": {
        "id": "XmiUrR2kNSMe",
        "colab_type": "code",
        "colab": {
          "base_uri": "https://localhost:8080/",
          "height": 351
        },
        "outputId": "59850d52-6006-47f0-c27f-f12c1bf56460"
      },
      "source": [
        "model.summary()"
      ],
      "execution_count": 53,
      "outputs": [
        {
          "output_type": "stream",
          "text": [
            "Model: \"model\"\n",
            "_________________________________________________________________\n",
            "Layer (type)                 Output Shape              Param #   \n",
            "=================================================================\n",
            "input_1 (InputLayer)         [(None, 28, 28)]          0         \n",
            "_________________________________________________________________\n",
            "flatten_2 (Flatten)          (None, 784)               0         \n",
            "_________________________________________________________________\n",
            "dense_6 (Dense)              (None, 300)               235500    \n",
            "_________________________________________________________________\n",
            "dense_7 (Dense)              (None, 100)               30100     \n",
            "_________________________________________________________________\n",
            "dense_8 (Dense)              (None, 10)                1010      \n",
            "=================================================================\n",
            "Total params: 266,610\n",
            "Trainable params: 266,610\n",
            "Non-trainable params: 0\n",
            "_________________________________________________________________\n"
          ],
          "name": "stdout"
        }
      ]
    },
    {
      "cell_type": "code",
      "metadata": {
        "id": "cSY2DmGENTkW",
        "colab_type": "code",
        "colab": {}
      },
      "source": [
        "model.compile(loss='sparse_categorical_crossentropy',optimizer='sgd',metrics=['accuracy'])"
      ],
      "execution_count": 0,
      "outputs": []
    },
    {
      "cell_type": "code",
      "metadata": {
        "id": "lxukBcphNkxn",
        "colab_type": "code",
        "colab": {
          "base_uri": "https://localhost:8080/",
          "height": 427
        },
        "outputId": "342e82cf-e635-4b67-efd2-8beede286fdd"
      },
      "source": [
        "history=model.fit(trainx,trainy,epochs=10,validation_split=0.2)"
      ],
      "execution_count": 56,
      "outputs": [
        {
          "output_type": "stream",
          "text": [
            "Train on 48000 samples, validate on 12000 samples\n",
            "Epoch 1/10\n",
            "48000/48000 [==============================] - 8s 170us/sample - loss: 0.4743 - accuracy: 0.8342 - val_loss: 0.4693 - val_accuracy: 0.8355\n",
            "Epoch 2/10\n",
            "48000/48000 [==============================] - 9s 182us/sample - loss: 0.4385 - accuracy: 0.8461 - val_loss: 0.4247 - val_accuracy: 0.8513\n",
            "Epoch 3/10\n",
            "48000/48000 [==============================] - 7s 148us/sample - loss: 0.4153 - accuracy: 0.8547 - val_loss: 0.4064 - val_accuracy: 0.8583\n",
            "Epoch 4/10\n",
            "48000/48000 [==============================] - 8s 170us/sample - loss: 0.3976 - accuracy: 0.8614 - val_loss: 0.4005 - val_accuracy: 0.8569\n",
            "Epoch 5/10\n",
            "48000/48000 [==============================] - 8s 159us/sample - loss: 0.3807 - accuracy: 0.8674 - val_loss: 0.4064 - val_accuracy: 0.8596\n",
            "Epoch 6/10\n",
            "48000/48000 [==============================] - 7s 149us/sample - loss: 0.3687 - accuracy: 0.8702 - val_loss: 0.3951 - val_accuracy: 0.8600\n",
            "Epoch 7/10\n",
            "48000/48000 [==============================] - 8s 156us/sample - loss: 0.3574 - accuracy: 0.8744 - val_loss: 0.3913 - val_accuracy: 0.8668\n",
            "Epoch 8/10\n",
            "48000/48000 [==============================] - 8s 163us/sample - loss: 0.3462 - accuracy: 0.8785 - val_loss: 0.3673 - val_accuracy: 0.8706\n",
            "Epoch 9/10\n",
            "48000/48000 [==============================] - 8s 176us/sample - loss: 0.3383 - accuracy: 0.8809 - val_loss: 0.3673 - val_accuracy: 0.8723\n",
            "Epoch 10/10\n",
            "48000/48000 [==============================] - 9s 178us/sample - loss: 0.3303 - accuracy: 0.8834 - val_loss: 0.3680 - val_accuracy: 0.8712\n"
          ],
          "name": "stdout"
        }
      ]
    },
    {
      "cell_type": "code",
      "metadata": {
        "id": "--tXF-g-Nt8U",
        "colab_type": "code",
        "colab": {
          "base_uri": "https://localhost:8080/",
          "height": 284
        },
        "outputId": "ed9d81bc-05d9-4712-a28b-e6d976473fef"
      },
      "source": [
        "pd.DataFrame(history.history).plot(kind='line')"
      ],
      "execution_count": 57,
      "outputs": [
        {
          "output_type": "execute_result",
          "data": {
            "text/plain": [
              "<matplotlib.axes._subplots.AxesSubplot at 0x7fb699248748>"
            ]
          },
          "metadata": {
            "tags": []
          },
          "execution_count": 57
        },
        {
          "output_type": "display_data",
          "data": {
            "image/png": "[encoded data removed]",
            "text/plain": [
              "<Figure size 432x288 with 1 Axes>"
            ]
          },
          "metadata": {
            "tags": []
          }
        }
      ]
    },
    {
      "cell_type": "code",
      "metadata": {
        "id": "LCh5lavmN3Nv",
        "colab_type": "code",
        "colab": {}
      },
      "source": [
        ""
      ],
      "execution_count": 0,
      "outputs": []
    }
  ]
}