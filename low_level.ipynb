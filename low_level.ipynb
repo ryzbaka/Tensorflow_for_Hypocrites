{
  "nbformat": 4,
  "nbformat_minor": 0,
  "metadata": {
    "colab": {
      "name": "low_level.ipynb",
      "provenance": []
    },
    "kernelspec": {
      "name": "python3",
      "display_name": "Python 3"
    }
  },
  "cells": [
    {
      "cell_type": "markdown",
      "metadata": {
        "id": "1oaDS9RQybhD",
        "colab_type": "text"
      },
      "source": [
        "## Tensorflow Low Level API"
      ]
    },
    {
      "cell_type": "markdown",
      "metadata": {
        "id": "28jZG-3e3jHq",
        "colab_type": "text"
      },
      "source": [
        "## Tensors and Operations"
      ]
    },
    {
      "cell_type": "code",
      "metadata": {
        "id": "RjcH3F9AyYpR",
        "colab_type": "code",
        "colab": {}
      },
      "source": [
        "tensor=tf.constant([[1,2,3],[4,5,6]])"
      ],
      "execution_count": 0,
      "outputs": []
    },
    {
      "cell_type": "code",
      "metadata": {
        "id": "4PNOFx6P3uZa",
        "colab_type": "code",
        "colab": {
          "base_uri": "https://localhost:8080/",
          "height": 73
        },
        "outputId": "55e7f1e9-433a-4c30-f1ed-7c6b7c4d092e"
      },
      "source": [
        "tensor # kinda like a numpy array"
      ],
      "execution_count": 5,
      "outputs": [
        {
          "output_type": "execute_result",
          "data": {
            "text/plain": [
              "<tf.Tensor: id=0, shape=(2, 3), dtype=int32, numpy=\n",
              "array([[1, 2, 3],\n",
              "       [4, 5, 6]], dtype=int32)>"
            ]
          },
          "metadata": {
            "tags": []
          },
          "execution_count": 5
        }
      ]
    },
    {
      "cell_type": "code",
      "metadata": {
        "id": "EokEiV0G3vIJ",
        "colab_type": "code",
        "colab": {
          "base_uri": "https://localhost:8080/",
          "height": 36
        },
        "outputId": "2c4ba643-52fa-467c-b3f1-7e02ecc7a3bf"
      },
      "source": [
        "tensor[:,0]"
      ],
      "execution_count": 8,
      "outputs": [
        {
          "output_type": "execute_result",
          "data": {
            "text/plain": [
              "<tf.Tensor: id=12, shape=(2,), dtype=int32, numpy=array([1, 4], dtype=int32)>"
            ]
          },
          "metadata": {
            "tags": []
          },
          "execution_count": 8
        }
      ]
    },
    {
      "cell_type": "code",
      "metadata": {
        "id": "fZyDENkP51iG",
        "colab_type": "code",
        "colab": {
          "base_uri": "https://localhost:8080/",
          "height": 73
        },
        "outputId": "eb18143b-357c-4278-92d0-ea600828724f"
      },
      "source": [
        "tensor+1"
      ],
      "execution_count": 9,
      "outputs": [
        {
          "output_type": "execute_result",
          "data": {
            "text/plain": [
              "<tf.Tensor: id=14, shape=(2, 3), dtype=int32, numpy=\n",
              "array([[2, 3, 4],\n",
              "       [5, 6, 7]], dtype=int32)>"
            ]
          },
          "metadata": {
            "tags": []
          },
          "execution_count": 9
        }
      ]
    },
    {
      "cell_type": "code",
      "metadata": {
        "id": "_enuk-DR6AA9",
        "colab_type": "code",
        "colab": {}
      },
      "source": [
        "import numpy as np\n",
        "a=np.array([[1,2,3],[2,3,4]])"
      ],
      "execution_count": 0,
      "outputs": []
    },
    {
      "cell_type": "code",
      "metadata": {
        "id": "SzBm7_xT6Xj2",
        "colab_type": "code",
        "colab": {}
      },
      "source": [
        "some_tensor=tf.constant(a) # converting numpy array to tensor"
      ],
      "execution_count": 0,
      "outputs": []
    },
    {
      "cell_type": "code",
      "metadata": {
        "id": "4HF8-fBt6dPv",
        "colab_type": "code",
        "colab": {}
      },
      "source": [
        "b=some_tensor.numpy() # converting tensor to numpy array"
      ],
      "execution_count": 0,
      "outputs": []
    },
    {
      "cell_type": "code",
      "metadata": {
        "id": "ceKxMyZa6lHl",
        "colab_type": "code",
        "colab": {
          "base_uri": "https://localhost:8080/",
          "height": 36
        },
        "outputId": "b7d7b256-2055-457f-dd3a-b6871d6af962"
      },
      "source": [
        "np.max(some_tensor) # numpy operations work with tensorflow tensors"
      ],
      "execution_count": 15,
      "outputs": [
        {
          "output_type": "execute_result",
          "data": {
            "text/plain": [
              "4"
            ]
          },
          "metadata": {
            "tags": []
          },
          "execution_count": 15
        }
      ]
    },
    {
      "cell_type": "markdown",
      "metadata": {
        "id": "Ig0eWoUW62jB",
        "colab_type": "text"
      },
      "source": [
        "Tensorflow doesn't have any implicit type conversion even from int64 to int32"
      ]
    },
    {
      "cell_type": "code",
      "metadata": {
        "id": "1RZgohzU6qNo",
        "colab_type": "code",
        "colab": {}
      },
      "source": [
        "a=tf.constant([1,2,3,4],dtype=tf.float64)"
      ],
      "execution_count": 0,
      "outputs": []
    },
    {
      "cell_type": "code",
      "metadata": {
        "id": "xR8w04mv7D5v",
        "colab_type": "code",
        "colab": {
          "base_uri": "https://localhost:8080/",
          "height": 36
        },
        "outputId": "98a460ba-adde-4f09-f07c-42fa90dc6ff8"
      },
      "source": [
        "a"
      ],
      "execution_count": 18,
      "outputs": [
        {
          "output_type": "execute_result",
          "data": {
            "text/plain": [
              "<tf.Tensor: id=16, shape=(4,), dtype=float64, numpy=array([1., 2., 3., 4.])>"
            ]
          },
          "metadata": {
            "tags": []
          },
          "execution_count": 18
        }
      ]
    },
    {
      "cell_type": "markdown",
      "metadata": {
        "id": "XmZWhO0j7Oor",
        "colab_type": "text"
      },
      "source": [
        "Use `tf.cast` for type conversion."
      ]
    },
    {
      "cell_type": "code",
      "metadata": {
        "id": "ksuVFDtf7JIe",
        "colab_type": "code",
        "colab": {
          "base_uri": "https://localhost:8080/",
          "height": 36
        },
        "outputId": "56772eed-9aee-44e6-ce4a-a58040b8dd74"
      },
      "source": [
        "a=tf.cast(a,tf.int64)\n",
        "a"
      ],
      "execution_count": 19,
      "outputs": [
        {
          "output_type": "execute_result",
          "data": {
            "text/plain": [
              "<tf.Tensor: id=17, shape=(4,), dtype=int64, numpy=array([1, 2, 3, 4])>"
            ]
          },
          "metadata": {
            "tags": []
          },
          "execution_count": 19
        }
      ]
    },
    {
      "cell_type": "markdown",
      "metadata": {
        "id": "GOnHubU77Z7H",
        "colab_type": "text"
      },
      "source": [
        "Tensorflow tensors are immutable.\n",
        "If your tensor values have to keep changing( like in model weight updation ) use a `tf.Variable` instead."
      ]
    },
    {
      "cell_type": "code",
      "metadata": {
        "id": "8ysQqkrR7NHn",
        "colab_type": "code",
        "colab": {}
      },
      "source": [
        "a=tf.Variable([[1,2,3],[2,3,4]])"
      ],
      "execution_count": 0,
      "outputs": []
    },
    {
      "cell_type": "code",
      "metadata": {
        "id": "JVBTUiXL8acj",
        "colab_type": "code",
        "colab": {
          "base_uri": "https://localhost:8080/",
          "height": 73
        },
        "outputId": "81d0e4dc-baf5-4f76-ae50-be146716de9f"
      },
      "source": [
        "a"
      ],
      "execution_count": 34,
      "outputs": [
        {
          "output_type": "execute_result",
          "data": {
            "text/plain": [
              "<tf.Variable 'Variable:0' shape=(2, 3) dtype=int32, numpy=\n",
              "array([[1, 2, 3],\n",
              "       [2, 3, 4]], dtype=int32)>"
            ]
          },
          "metadata": {
            "tags": []
          },
          "execution_count": 34
        }
      ]
    },
    {
      "cell_type": "code",
      "metadata": {
        "id": "jsgaeIz38CRe",
        "colab_type": "code",
        "colab": {
          "base_uri": "https://localhost:8080/",
          "height": 73
        },
        "outputId": "913613ba-f972-4be7-94d6-3e007176790b"
      },
      "source": [
        "a[0,0].assign(42) # inplace value substitution"
      ],
      "execution_count": 35,
      "outputs": [
        {
          "output_type": "execute_result",
          "data": {
            "text/plain": [
              "<tf.Variable 'UnreadVariable' shape=(2, 3) dtype=int32, numpy=\n",
              "array([[42,  2,  3],\n",
              "       [ 2,  3,  4]], dtype=int32)>"
            ]
          },
          "metadata": {
            "tags": []
          },
          "execution_count": 35
        }
      ]
    },
    {
      "cell_type": "markdown",
      "metadata": {
        "id": "P66zbOgK8klY",
        "colab_type": "text"
      },
      "source": [
        "## Other Data Structures\n",
        "* Sparse Tensors : tf.SparseTensor\n",
        "  * Efficient representation on tensors that are mostly 0s.\n",
        "* Tensor Arrays : tf.TensorArray\n",
        "  * List of tensors with same shape and data type.\n",
        "* Ragged Tensors: tf.RaggedTensor\n",
        "  * Static list of list of tensors.\n",
        "* String Tensors:\n",
        "  * Byte string tensors.\n",
        "* Sets\n",
        "* Queues"
      ]
    },
    {
      "cell_type": "markdown",
      "metadata": {
        "id": "RvTWeo6v9fA1",
        "colab_type": "text"
      },
      "source": [
        "## Custom Loss Functions"
      ]
    },
    {
      "cell_type": "code",
      "metadata": {
        "id": "hs1LjsLg8cDz",
        "colab_type": "code",
        "colab": {}
      },
      "source": [
        "def huber_fn(y_true,_y_pred):\n",
        "  error=y_true-y_pred\n",
        "  is_small_error=tf.abs(error) < 1 # if the absolute error is less than one\n",
        "  squared_loss = tf.square(error)\n",
        "  linear_loss = tf.abs(error) - 0.5\n",
        "  return tf.where(is_small_error,squared_loss,linear_loss)\n",
        "#model.compile(loss=huber_fn,optimizer='nadam')\n",
        "#saving models with custom components\n",
        "model=keras.models.load_model('some_model.h5',custom_objects={'huber_fn':huber_fn})\n"
      ],
      "execution_count": 0,
      "outputs": []
    },
    {
      "cell_type": "markdown",
      "metadata": {
        "id": "apD28NdFP2P-",
        "colab_type": "text"
      },
      "source": [
        "## Calculating gradients with AutoDiff"
      ]
    },
    {
      "cell_type": "code",
      "metadata": {
        "id": "jaizlPRRPNNQ",
        "colab_type": "code",
        "colab": {}
      },
      "source": [
        "def f(w1,w2):\n",
        "  return 3*w1**2+2*w1*w2\n",
        "\n",
        "# the partial derivative of this function with respect to w1 is 6*w1+2*w2\n",
        "# the partial derivative with respect to w2 is 2*w1"
      ],
      "execution_count": 0,
      "outputs": []
    },
    {
      "cell_type": "code",
      "metadata": {
        "id": "oDzpLhARQOE4",
        "colab_type": "code",
        "colab": {}
      },
      "source": [
        "w1,w2=tf.Variable(5.),tf.Variable(3.)\n",
        "with tf.GradientTape() as tape: # start 'monitoring' operations and storing on a tape\n",
        "  z=f(w1,w2)\n"
      ],
      "execution_count": 0,
      "outputs": []
    },
    {
      "cell_type": "code",
      "metadata": {
        "id": "Z2g-uEYJRypH",
        "colab_type": "code",
        "colab": {
          "base_uri": "https://localhost:8080/",
          "height": 55
        },
        "outputId": "8b7130c5-1dd3-4e0f-c0dc-70a1ee263789"
      },
      "source": [
        "gradients=tape.gradient(z,[w1,w2]) # taking the partial derivatives for functions performed on z and passing the inputs [w1,w2]\n",
        "#into those functions\n",
        "gradients"
      ],
      "execution_count": 57,
      "outputs": [
        {
          "output_type": "execute_result",
          "data": {
            "text/plain": [
              "[<tf.Tensor: id=360, shape=(), dtype=float32, numpy=36.0>,\n",
              " <tf.Tensor: id=352, shape=(), dtype=float32, numpy=10.0>]"
            ]
          },
          "metadata": {
            "tags": []
          },
          "execution_count": 57
        }
      ]
    },
    {
      "cell_type": "markdown",
      "metadata": {
        "id": "oShPjUikR9F2",
        "colab_type": "text"
      },
      "source": [
        "Here as expected 2 x 5 = 10 and 6 x 5 + 2 x 3 = 36\n",
        "  * To call gradient more than once you'll have to set tf.GradientTape(persistent=True)"
      ]
    },
    {
      "cell_type": "markdown",
      "metadata": {
        "id": "1N9pimX9TX81",
        "colab_type": "text"
      },
      "source": [
        "## Tensorflow Graph Function"
      ]
    },
    {
      "cell_type": "code",
      "metadata": {
        "id": "LUboVMuWR2qb",
        "colab_type": "code",
        "colab": {}
      },
      "source": [
        "a=tf.Variable(3.)"
      ],
      "execution_count": 0,
      "outputs": []
    },
    {
      "cell_type": "code",
      "metadata": {
        "id": "TAhk_qSpTeKV",
        "colab_type": "code",
        "colab": {}
      },
      "source": [
        "def cuber(x):\n",
        "  return x**3"
      ],
      "execution_count": 0,
      "outputs": []
    },
    {
      "cell_type": "code",
      "metadata": {
        "id": "KKG65YcVTjkF",
        "colab_type": "code",
        "colab": {
          "base_uri": "https://localhost:8080/",
          "height": 36
        },
        "outputId": "1c90731c-0cbc-481b-fcf5-dc6fe8282fe1"
      },
      "source": [
        "cuber(a)"
      ],
      "execution_count": 61,
      "outputs": [
        {
          "output_type": "execute_result",
          "data": {
            "text/plain": [
              "<tf.Tensor: id=370, shape=(), dtype=float32, numpy=27.0>"
            ]
          },
          "metadata": {
            "tags": []
          },
          "execution_count": 61
        }
      ]
    },
    {
      "cell_type": "code",
      "metadata": {
        "id": "gMN1X6tKTmBY",
        "colab_type": "code",
        "colab": {
          "base_uri": "https://localhost:8080/",
          "height": 36
        },
        "outputId": "f70adaa5-9c93-40fc-d3d5-80cdb1b81b9a"
      },
      "source": [
        "tf_cube=tf.function(cuber) # creates a computational graph and prunes unused nodes to optimize the operation\n",
        "tf_cube(a)\n",
        "\n",
        "# or\n",
        "\n",
        "@tf.function\n",
        "def tf_cuber(x):\n",
        "  return x**3\n",
        "tf_cuber(a)"
      ],
      "execution_count": 64,
      "outputs": [
        {
          "output_type": "execute_result",
          "data": {
            "text/plain": [
              "<tf.Tensor: id=397, shape=(), dtype=float32, numpy=27.0>"
            ]
          },
          "metadata": {
            "tags": []
          },
          "execution_count": 64
        }
      ]
    },
    {
      "cell_type": "code",
      "metadata": {
        "id": "1TNXioMwT-FS",
        "colab_type": "code",
        "colab": {}
      },
      "source": [
        ""
      ],
      "execution_count": 0,
      "outputs": []
    },
    {
      "cell_type": "code",
      "metadata": {
        "id": "xyoHObGPTsbz",
        "colab_type": "code",
        "colab": {}
      },
      "source": [
        ""
      ],
      "execution_count": 0,
      "outputs": []
    },
    {
      "cell_type": "code",
      "metadata": {
        "id": "MYRCBdUGTki8",
        "colab_type": "code",
        "colab": {}
      },
      "source": [
        ""
      ],
      "execution_count": 0,
      "outputs": []
    },
    {
      "cell_type": "code",
      "metadata": {
        "id": "-Mzh7a9wRZsG",
        "colab_type": "code",
        "colab": {}
      },
      "source": [
        ""
      ],
      "execution_count": 0,
      "outputs": []
    },
    {
      "cell_type": "code",
      "metadata": {
        "id": "6DH2Phc9RKX7",
        "colab_type": "code",
        "colab": {}
      },
      "source": [
        ""
      ],
      "execution_count": 0,
      "outputs": []
    },
    {
      "cell_type": "code",
      "metadata": {
        "id": "zU-AGI1g8ZV9",
        "colab_type": "code",
        "colab": {}
      },
      "source": [
        ""
      ],
      "execution_count": 0,
      "outputs": []
    },
    {
      "cell_type": "code",
      "metadata": {
        "id": "GyCO7LE68WZm",
        "colab_type": "code",
        "colab": {}
      },
      "source": [
        ""
      ],
      "execution_count": 0,
      "outputs": []
    },
    {
      "cell_type": "code",
      "metadata": {
        "id": "OQbj5spK8IOt",
        "colab_type": "code",
        "colab": {}
      },
      "source": [
        ""
      ],
      "execution_count": 0,
      "outputs": []
    },
    {
      "cell_type": "code",
      "metadata": {
        "id": "Mg5peql66pL8",
        "colab_type": "code",
        "colab": {}
      },
      "source": [
        ""
      ],
      "execution_count": 0,
      "outputs": []
    }
  ]
}